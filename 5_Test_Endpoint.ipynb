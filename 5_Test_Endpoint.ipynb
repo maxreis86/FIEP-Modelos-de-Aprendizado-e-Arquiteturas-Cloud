{
 "cells": [
  {
   "cell_type": "code",
   "execution_count": 6,
   "metadata": {},
   "outputs": [
    {
     "name": "stdout",
     "output_type": "stream",
     "text": [
      "{'message': 'Prediction executed successfully!', 'probability': 0.9636, 'rating': '3', 'predict': 'Survive'}\n"
     ]
    }
   ],
   "source": [
    "import requests\n",
    "\n",
    "# Parâmetros do modelo\n",
    "endpoint = 'https://rosynq5oui.execute-api.us-east-1.amazonaws.com/prod/get-predict'\n",
    "\n",
    "# Definição dos inputs\n",
    "params = {\"passenger_id\":\"2\"}\n",
    "\n",
    "resultado = requests.get(endpoint, params = params)\n",
    "print(resultado.json())"
   ]
  }
 ],
 "metadata": {
  "instance_type": "ml.t3.medium",
  "kernelspec": {
   "display_name": "Python 3.7.7 64-bit",
   "language": "python",
   "name": "python3"
  },
  "language_info": {
   "codemirror_mode": {
    "name": "ipython",
    "version": 3
   },
   "file_extension": ".py",
   "mimetype": "text/x-python",
   "name": "python",
   "nbconvert_exporter": "python",
   "pygments_lexer": "ipython3",
   "version": "3.7.7"
  },
  "vscode": {
   "interpreter": {
    "hash": "5109d816b82be14675a6b11f8e0f0d2e80f029176ed3710d54e125caa8520dfd"
   }
  }
 },
 "nbformat": 4,
 "nbformat_minor": 4
}
