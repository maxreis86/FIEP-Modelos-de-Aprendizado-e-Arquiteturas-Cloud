{
 "cells": [
  {
   "cell_type": "code",
   "execution_count": 17,
   "metadata": {},
   "outputs": [
    {
     "name": "stdout",
     "output_type": "stream",
     "text": [
      "{'message': 'Internal server error'}\n",
      "{'message': 'Internal server error'}\n",
      "{'message': 'Internal server error'}\n",
      "{'message': 'Internal server error'}\n",
      "{'message': 'Internal server error'}\n",
      "{'message': 'Internal server error'}\n",
      "{'message': 'Internal server error'}\n",
      "{'message': 'Internal server error'}\n",
      "755 ms ± 14.2 ms per loop (mean ± std. dev. of 7 runs, 1 loop each)\n"
     ]
    }
   ],
   "source": [
    "%%timeit\n",
    "import requests\n",
    "\n",
    "# Parâmetros do modelo\n",
    "endpoint = 'https://fn8zs56z3h.execute-api.us-east-1.amazonaws.com/prod/get-predict'\n",
    "\n",
    "# Definição dos inputs\n",
    "#params = {\"passenger_id\":\"1\"}\n",
    "\n",
    "# Definição dos inputs para a versão com o DynamoDB\n",
    "params = {\"passenger_id\":\"99\", \"embarked\": \"Cherbourg\"}\n",
    "\n",
    "resultado = requests.get(endpoint, params = params)\n",
    "print(resultado.json())"
   ]
  }
 ],
 "metadata": {
  "instance_type": "ml.t3.medium",
  "kernelspec": {
   "display_name": "Python3 (aula-deploy-modelos/1)",
   "language": "python",
   "name": "Python3__SAGEMAKER_INTERNAL__arn:aws:sagemaker:us-east-1:201336207587:image-version/aula-deploy-modelos/1"
  },
  "language_info": {
   "codemirror_mode": {
    "name": "ipython",
    "version": 3
   },
   "file_extension": ".py",
   "mimetype": "text/x-python",
   "name": "python",
   "nbconvert_exporter": "python",
   "pygments_lexer": "ipython3",
   "version": "3.7.13"
  },
  "vscode": {
   "interpreter": {
    "hash": "5109d816b82be14675a6b11f8e0f0d2e80f029176ed3710d54e125caa8520dfd"
   }
  }
 },
 "nbformat": 4,
 "nbformat_minor": 4
}
