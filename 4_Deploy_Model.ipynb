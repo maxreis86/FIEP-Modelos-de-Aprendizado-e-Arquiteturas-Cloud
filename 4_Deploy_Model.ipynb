{
 "cells": [
  {
   "cell_type": "code",
   "execution_count": 2,
   "metadata": {},
   "outputs": [],
   "source": [
    "import sys\n",
    "sys.path.append('/var/lang/lib/python37.zip')\n",
    "sys.path.append('/var/lang/lib/python3.7')\n",
    "sys.path.append('/var/lang/lib/python3.7/lib-dynload')\n",
    "sys.path.append('/var/lang/lib/python3.7/site-packages')\n",
    "sys.path.remove('/opt/.sagemakerinternal/conda/lib/python3.7/site-packages')"
   ]
  },
  {
   "cell_type": "markdown",
   "metadata": {},
   "source": [
    "### 1. Substituir o StackedEnsemble_BestOfFamily_4_AutoML_1_20221006_02202.zip pelo nome do melhor modelo definido no step 2"
   ]
  },
  {
   "cell_type": "markdown",
   "metadata": {},
   "source": [
    "### 1.1 Editar e testar a função handler que será salva no aquivo ./deploy/handler.py"
   ]
  },
  {
   "cell_type": "code",
   "execution_count": 3,
   "metadata": {},
   "outputs": [],
   "source": [
    "def lambda_handler(event, context):\n",
    "    import h2o\n",
    "    import pandas as pd\n",
    "    import boto3\n",
    "    import awswrangler as wr\n",
    "    import json\n",
    "    \n",
    "    #Best Model ID:\n",
    "    BestModelId='./output_model/models/best/StackedEnsemble_BestOfFamily_4_AutoML_1_20221007_182042.zip'\n",
    "    \n",
    "    #Keep the ratings ranges updated\n",
    "    def ratings(p1):\n",
    "        if p1 <= 0.2508362656036639:\n",
    "            return 1\n",
    "        elif p1 <= 0.6540492277407066:\n",
    "            return 2\n",
    "        else:\n",
    "            return 3\n",
    "        \n",
    "    #Criar conexão com o Athena\n",
    "    my_boto3_session = boto3.Session(region_name='us-east-1')\n",
    "    \n",
    "    passenger_id = event['queryStringParameters']['passenger_id']\n",
    "    \n",
    "    query = \"SELECT * FROM auladeploymodelos.titanic_propensity_survive where passengerid = %s;\" % passenger_id\n",
    "    dataprep_df = wr.athena.read_sql_query(query, database=\"auladeploymodelos\", boto3_session=my_boto3_session)\n",
    "    \n",
    "    predict_df = h2o.mojo_predict_pandas(dataprep_df.set_index('passengerid', inplace=False), mojo_zip_path=BestModelId, genmodel_jar_path='./output_model/models/best/h2o-genmodel.jar', verbose=False).loc[:,('predict','p1')]\n",
    "            \n",
    "    def predict_func(predict):\n",
    "        if predict == 0:\n",
    "            return 'Not survive'\n",
    "        elif predict == 1:\n",
    "            return 'Survive'\n",
    "        else:\n",
    "            return 'predict_ERROR'\n",
    "    \n",
    "    predict_df['predict'] = predict_df.apply(lambda x: predict_func(x['predict']),axis=1).astype(str)\n",
    "    \n",
    "    predict_df['rating'] = predict_df.apply(lambda x: ratings(x['p1']),axis=1).astype(str)\n",
    "\n",
    "    body = {\n",
    "        \"message\": \"Prediction executed successfully!\"        \n",
    "    }\n",
    "\n",
    "    body['probability'] = round(predict_df['p1'][0],4)\n",
    "    body['rating'] = predict_df['rating'][0]\n",
    "    body['predict'] = predict_df['predict'][0]\n",
    "    \n",
    "    response = {\n",
    "        \"statusCode\": 200,\n",
    "        \"body\": json.dumps(body),\n",
    "        \"headers\": {\n",
    "            \"Access-Control-Allow-Origin\": \"*\"\n",
    "        }\n",
    "    }\n",
    "    \n",
    "    return response"
   ]
  },
  {
   "cell_type": "code",
   "execution_count": 4,
   "metadata": {},
   "outputs": [
    {
     "name": "stdout",
     "output_type": "stream",
     "text": [
      "Detected 3 unused columns in the input data set: {referencedate,passengerid,partition_0}\n",
      "{'statusCode': 200, 'body': '{\"message\": \"Prediction executed successfully!\", \"probability\": 0.9593, \"rating\": \"3\", \"predict\": \"Survive\"}', 'headers': {'Access-Control-Allow-Origin': '*'}}\n"
     ]
    }
   ],
   "source": [
    "# DEV\n",
    "event={\n",
    "    \"queryStringParameters\":{\"passenger_id\":\"2\"}\n",
    "}\n",
    "context='context'\n",
    "print(lambda_handler(event, context))"
   ]
  },
  {
   "cell_type": "markdown",
   "metadata": {},
   "source": [
    "### 2. Copiar o arquivo MOJO com o melhor modelo e o arquivo h2o-genmodel.jar para a pasta ./deploy/"
   ]
  },
  {
   "cell_type": "code",
   "execution_count": 5,
   "metadata": {},
   "outputs": [],
   "source": [
    "!cp ./output_model/models/best/StackedEnsemble_BestOfFamily_4_AutoML_1_20221007_182042.zip  ./deploy/StackedEnsemble_BestOfFamily_4_AutoML_1_20221007_182042.zip"
   ]
  },
  {
   "cell_type": "code",
   "execution_count": 6,
   "metadata": {},
   "outputs": [],
   "source": [
    "!cp ./output_model/models/best/h2o-genmodel.jar  ./deploy/h2o-genmodel.jar"
   ]
  },
  {
   "cell_type": "markdown",
   "metadata": {},
   "source": [
    "### 3. Seguir as instruções do arquivos README.md dentro da pasta deploy"
   ]
  }
 ],
 "metadata": {
  "instance_type": "ml.t3.medium",
  "kernelspec": {
   "display_name": "Python3 (aula-deploy-modelos/1)",
   "language": "python",
   "name": "Python3__SAGEMAKER_INTERNAL__arn:aws:sagemaker:us-east-1:702113447940:image-version/aula-deploy-modelos/1"
  },
  "language_info": {
   "codemirror_mode": {
    "name": "ipython",
    "version": 3
   },
   "file_extension": ".py",
   "mimetype": "text/x-python",
   "name": "python",
   "nbconvert_exporter": "python",
   "pygments_lexer": "ipython3",
   "version": "3.7.12"
  }
 },
 "nbformat": 4,
 "nbformat_minor": 4
}
