{
 "cells": [
  {
   "cell_type": "code",
   "execution_count": 2,
   "metadata": {},
   "outputs": [
    {
     "name": "stdout",
     "output_type": "stream",
     "text": [
      "{'message': 'Prediction executed successfully!', 'user_id': 'e3256a6c-db6e-11ec-82e5-d17574e1e22e', 'post_id': '9672e35d-03b9-4fdf-9813-f235e28e593b'}\n",
      "{'message': 'Prediction executed successfully!', 'user_id': 'e3256a6c-db6e-11ec-82e5-d17574e1e22e', 'post_id': 'b0c9a153-9030-4a9d-80cc-f9677174ccff'}\n",
      "{'message': 'Prediction executed successfully!', 'user_id': 'e3256a6c-db6e-11ec-82e5-d17574e1e22e', 'post_id': 'c96e1d56-b160-4551-8414-77d10fcd077e'}\n",
      "{'message': 'Prediction executed successfully!', 'user_id': 'e3256a6c-db6e-11ec-82e5-d17574e1e22e', 'post_id': 'd37176c6-a94c-496b-9c42-db3c466722f6'}\n",
      "{'message': 'Prediction executed successfully!', 'user_id': 'e3256a6c-db6e-11ec-82e5-d17574e1e22e', 'post_id': 'd49411e4-b02f-491f-a974-9ebd6d9faae1'}\n",
      "{'message': 'Prediction executed successfully!', 'user_id': 'e3256a6c-db6e-11ec-82e5-d17574e1e22e', 'post_id': 'fbc48d2b-2218-4748-b183-160726d9983f'}\n",
      "{'message': 'Prediction executed successfully!', 'user_id': 'e3256a6c-db6e-11ec-82e5-d17574e1e22e', 'post_id': 'a7815b8d-29a5-479c-bb0e-7179e419dc92'}\n",
      "{'message': 'Prediction executed successfully!', 'user_id': 'e3256a6c-db6e-11ec-82e5-d17574e1e22e', 'post_id': 'b0c9a153-9030-4a9d-80cc-f9677174ccff'}\n",
      "110 ms ± 46.4 ms per loop (mean ± std. dev. of 7 runs, 1 loop each)\n"
     ]
    }
   ],
   "source": [
    "%%timeit\n",
    "import requests\n",
    "\n",
    "# Parâmetros do modelo\n",
    "# endpoint = 'https://8h5q58rkd0.execute-api.us-east-1.amazonaws.com/dev/get-recommendation'\n",
    "endpoint = 'https://mz38w9kwn1.execute-api.us-east-1.amazonaws.com/dev/get-recommendation'\n",
    "\n",
    "# Definição dos inputs\n",
    "params = {\"user_id\": \"e3256a6c-db6e-11ec-82e5-d17574e1e22e\"}\n",
    "\n",
    "resultado = requests.get(endpoint, params = params)\n",
    "print(resultado.json())"
   ]
  },
  {
   "cell_type": "code",
   "execution_count": null,
   "metadata": {},
   "outputs": [],
   "source": []
  }
 ],
 "metadata": {
  "instance_type": "ml.t3.medium",
  "kernelspec": {
   "display_name": "Python3 (aula-deploy-modelos/1)",
   "language": "python",
   "name": "Python3__SAGEMAKER_INTERNAL__arn:aws:sagemaker:us-east-1:702113447940:image-version/aula-deploy-modelos/1"
  },
  "language_info": {
   "codemirror_mode": {
    "name": "ipython",
    "version": 3
   },
   "file_extension": ".py",
   "mimetype": "text/x-python",
   "name": "python",
   "nbconvert_exporter": "python",
   "pygments_lexer": "ipython3",
   "version": "3.7.12"
  }
 },
 "nbformat": 4,
 "nbformat_minor": 4
}
