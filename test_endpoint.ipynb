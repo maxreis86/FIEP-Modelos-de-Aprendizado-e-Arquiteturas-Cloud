{
 "cells": [
  {
   "cell_type": "code",
   "execution_count": 5,
   "metadata": {},
   "outputs": [
    {
     "name": "stdout",
     "output_type": "stream",
     "text": [
      "{'message': 'Prediction executed successfully!', 'user_id': 'e3256a6c-db6e-11ec-82e5-d17574e1e22e', 'post_id': 'b0c9a153-9030-4a9d-80cc-f9677174ccff'}\n",
      "{'message': 'Prediction executed successfully!', 'user_id': 'e3256a6c-db6e-11ec-82e5-d17574e1e22e', 'post_id': '9d1ce001-9429-4501-8584-581b3210211e'}\n",
      "{'message': 'Prediction executed successfully!', 'user_id': 'e3256a6c-db6e-11ec-82e5-d17574e1e22e', 'post_id': '1dc3ba7f-6b9b-4ef2-92af-44a9afa7b4a0'}\n",
      "{'message': 'Prediction executed successfully!', 'user_id': 'e3256a6c-db6e-11ec-82e5-d17574e1e22e', 'post_id': 'c96e1d56-b160-4551-8414-77d10fcd077e'}\n",
      "{'message': 'Prediction executed successfully!', 'user_id': 'e3256a6c-db6e-11ec-82e5-d17574e1e22e', 'post_id': '9d1ce001-9429-4501-8584-581b3210211e'}\n",
      "{'message': 'Prediction executed successfully!', 'user_id': 'e3256a6c-db6e-11ec-82e5-d17574e1e22e', 'post_id': '1dc3ba7f-6b9b-4ef2-92af-44a9afa7b4a0'}\n",
      "{'message': 'Prediction executed successfully!', 'user_id': 'e3256a6c-db6e-11ec-82e5-d17574e1e22e', 'post_id': 'c96e1d56-b160-4551-8414-77d10fcd077e'}\n",
      "{'message': 'Prediction executed successfully!', 'user_id': 'e3256a6c-db6e-11ec-82e5-d17574e1e22e', 'post_id': 'c96e1d56-b160-4551-8414-77d10fcd077e'}\n",
      "89.5 ms ± 15.6 ms per loop (mean ± std. dev. of 7 runs, 1 loop each)\n"
     ]
    }
   ],
   "source": [
    "%%timeit\n",
    "import requests\n",
    "\n",
    "# Parâmetros do modelo\n",
    "# endpoint = 'https://8h5q58rkd0.execute-api.us-east-1.amazonaws.com/dev/get-recommendation'\n",
    "endpoint = 'https://mz38w9kwn1.execute-api.us-east-1.amazonaws.com/dev/get-recommendation'\n",
    "# endpoint = 'https://01pvcxl3o8.execute-api.us-east-1.amazonaws.com/prod/get-predict'\n",
    "\n",
    "# Definição dos inputs\n",
    "params = {\"user_id\": \"e3256a6c-db6e-11ec-82e5-d17574e1e22e\"}\n",
    "# params={\"jobId\":\"2329\",\n",
    "#         \"linkedinUsername\":\"patriciakano\"}\n",
    "\n",
    "resultado = requests.get(endpoint, params = params)\n",
    "print(resultado.json())"
   ]
  },
  {
   "cell_type": "code",
   "execution_count": null,
   "metadata": {},
   "outputs": [],
   "source": []
  }
 ],
 "metadata": {
  "instance_type": "ml.t3.medium",
  "kernelspec": {
   "display_name": "Python3 (aula-deploy-modelos/1)",
   "language": "python",
   "name": "Python3__SAGEMAKER_INTERNAL__arn:aws:sagemaker:us-east-1:702113447940:image-version/aula-deploy-modelos/1"
  },
  "language_info": {
   "codemirror_mode": {
    "name": "ipython",
    "version": 3
   },
   "file_extension": ".py",
   "mimetype": "text/x-python",
   "name": "python",
   "nbconvert_exporter": "python",
   "pygments_lexer": "ipython3",
   "version": "3.7.12"
  }
 },
 "nbformat": 4,
 "nbformat_minor": 4
}
