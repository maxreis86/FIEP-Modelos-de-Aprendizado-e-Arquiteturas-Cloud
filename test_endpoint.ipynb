{
 "cells": [
  {
   "cell_type": "code",
   "execution_count": 1,
   "metadata": {},
   "outputs": [
    {
     "name": "stdout",
     "output_type": "stream",
     "text": [
      "{'message': 'Prediction executed successfully!', 'user_id': 'e3256a6c-db6e-11ec-82e5-d17574e1e22e', 'post_id': '9d1ce001-9429-4501-8584-581b3210211e'}\n",
      "{'message': 'Prediction executed successfully!', 'user_id': 'e3256a6c-db6e-11ec-82e5-d17574e1e22e', 'post_id': '9672e35d-03b9-4fdf-9813-f235e28e593b'}\n",
      "{'message': 'Prediction executed successfully!', 'user_id': 'e3256a6c-db6e-11ec-82e5-d17574e1e22e', 'post_id': '915da040-7918-4f02-870e-d968ca7acf4d'}\n",
      "{'message': 'Prediction executed successfully!', 'user_id': 'e3256a6c-db6e-11ec-82e5-d17574e1e22e', 'post_id': 'fbc48d2b-2218-4748-b183-160726d9983f'}\n",
      "{'message': 'Prediction executed successfully!', 'user_id': 'e3256a6c-db6e-11ec-82e5-d17574e1e22e', 'post_id': 'c96e1d56-b160-4551-8414-77d10fcd077e'}\n",
      "{'message': 'Prediction executed successfully!', 'user_id': 'e3256a6c-db6e-11ec-82e5-d17574e1e22e', 'post_id': '9672e35d-03b9-4fdf-9813-f235e28e593b'}\n",
      "{'message': 'Prediction executed successfully!', 'user_id': 'e3256a6c-db6e-11ec-82e5-d17574e1e22e', 'post_id': '9672e35d-03b9-4fdf-9813-f235e28e593b'}\n",
      "{'message': 'Prediction executed successfully!', 'user_id': 'e3256a6c-db6e-11ec-82e5-d17574e1e22e', 'post_id': '9d1ce001-9429-4501-8584-581b3210211e'}\n",
      "288 ms ± 129 ms per loop (mean ± std. dev. of 7 runs, 1 loop each)\n"
     ]
    }
   ],
   "source": [
    "%%timeit\n",
    "import requests\n",
    "\n",
    "# Parâmetros do modelo\n",
    "endpoint = 'https://8h5q58rkd0.execute-api.us-east-1.amazonaws.com/dev/get-recommendation'\n",
    "\n",
    "# Definição dos inputs\n",
    "params = {\"user_id\": \"e3256a6c-db6e-11ec-82e5-d17574e1e22e\"}\n",
    "\n",
    "resultado = requests.get(endpoint, params = params)\n",
    "print(resultado.json())"
   ]
  },
  {
   "cell_type": "code",
   "execution_count": null,
   "metadata": {},
   "outputs": [],
   "source": []
  }
 ],
 "metadata": {
  "kernelspec": {
   "display_name": "Python 3",
   "language": "python",
   "name": "python3"
  },
  "language_info": {
   "codemirror_mode": {
    "name": "ipython",
    "version": 3
   },
   "file_extension": ".py",
   "mimetype": "text/x-python",
   "name": "python",
   "nbconvert_exporter": "python",
   "pygments_lexer": "ipython3",
   "version": "3.7.7"
  }
 },
 "nbformat": 4,
 "nbformat_minor": 4
}
