{
 "cells": [
  {
   "cell_type": "code",
   "execution_count": 3,
   "metadata": {},
   "outputs": [],
   "source": [
    "try:\n",
    "    import sys\n",
    "    sys.path.append('/var/lang/lib/python37.zip')\n",
    "    sys.path.append('/var/lang/lib/python3.7')\n",
    "    sys.path.append('/var/lang/lib/python3.7/lib-dynload')\n",
    "    sys.path.append('/var/lang/lib/python3.7/site-packages')\n",
    "    sys.path.remove('/opt/.sagemakerinternal/conda/lib/python3.7/site-packages')\n",
    "except:\n",
    "    pass"
   ]
  },
  {
   "cell_type": "code",
   "execution_count": 4,
   "metadata": {},
   "outputs": [],
   "source": [
    "import boto3\n",
    "import awswrangler as wr\n",
    "from decimal import Decimal"
   ]
  },
  {
   "cell_type": "code",
   "execution_count": 5,
   "metadata": {},
   "outputs": [],
   "source": [
    "my_boto3_session = boto3.Session(region_name='us-east-1')"
   ]
  },
  {
   "cell_type": "markdown",
   "metadata": {},
   "source": [
    "### 1. Criar uma tabela no DynamoDB"
   ]
  },
  {
   "cell_type": "code",
   "execution_count": 6,
   "metadata": {},
   "outputs": [
    {
     "data": {
      "text/plain": [
       "dynamodb.Table(name='titanic-propensity-survive')"
      ]
     },
     "execution_count": 6,
     "metadata": {},
     "output_type": "execute_result"
    }
   ],
   "source": [
    "#Criar a tabela titanic-propensity-survive no DynamoDB\n",
    "dynamodb = my_boto3_session.resource('dynamodb')\n",
    "\n",
    "params = {\n",
    "        'TableName': 'titanic-propensity-survive',\n",
    "        'KeySchema': [\n",
    "            {'AttributeName': 'passengerid', 'KeyType': 'HASH'}\n",
    "        ],\n",
    "        'AttributeDefinitions': [\n",
    "            {'AttributeName': 'passengerid', 'AttributeType': 'N'}\n",
    "        ],\n",
    "        'BillingMode': 'PAY_PER_REQUEST'\n",
    "    }\n",
    "dynamodb.create_table(**params)"
   ]
  },
  {
   "cell_type": "code",
   "execution_count": 7,
   "metadata": {},
   "outputs": [
    {
     "data": {
      "text/html": [
       "<div>\n",
       "<style scoped>\n",
       "    .dataframe tbody tr th:only-of-type {\n",
       "        vertical-align: middle;\n",
       "    }\n",
       "\n",
       "    .dataframe tbody tr th {\n",
       "        vertical-align: top;\n",
       "    }\n",
       "\n",
       "    .dataframe thead th {\n",
       "        text-align: right;\n",
       "    }\n",
       "</style>\n",
       "<table border=\"1\" class=\"dataframe\">\n",
       "  <thead>\n",
       "    <tr style=\"text-align: right;\">\n",
       "      <th></th>\n",
       "      <th>pclass</th>\n",
       "      <th>cabine_prefix</th>\n",
       "      <th>ticket_str</th>\n",
       "      <th>nametitle</th>\n",
       "      <th>fare</th>\n",
       "      <th>sibsp</th>\n",
       "      <th>parch</th>\n",
       "      <th>age_mean</th>\n",
       "      <th>ticket_int</th>\n",
       "      <th>survived</th>\n",
       "      <th>passengerid</th>\n",
       "      <th>referencedate</th>\n",
       "      <th>partition_0</th>\n",
       "    </tr>\n",
       "  </thead>\n",
       "  <tbody>\n",
       "    <tr>\n",
       "      <th>0</th>\n",
       "      <td>3</td>\n",
       "      <td>missing</td>\n",
       "      <td>A</td>\n",
       "      <td>Mr</td>\n",
       "      <td>7.2500</td>\n",
       "      <td>1.0</td>\n",
       "      <td>0.0</td>\n",
       "      <td>22.0</td>\n",
       "      <td>521171.0</td>\n",
       "      <td>0</td>\n",
       "      <td>1</td>\n",
       "      <td>1912-05</td>\n",
       "      <td>train_data</td>\n",
       "    </tr>\n",
       "    <tr>\n",
       "      <th>1</th>\n",
       "      <td>1</td>\n",
       "      <td>C</td>\n",
       "      <td>PC</td>\n",
       "      <td>Mrs</td>\n",
       "      <td>71.2833</td>\n",
       "      <td>1.0</td>\n",
       "      <td>0.0</td>\n",
       "      <td>38.0</td>\n",
       "      <td>17599.0</td>\n",
       "      <td>1</td>\n",
       "      <td>2</td>\n",
       "      <td>1912-04</td>\n",
       "      <td>train_data</td>\n",
       "    </tr>\n",
       "    <tr>\n",
       "      <th>2</th>\n",
       "      <td>3</td>\n",
       "      <td>missing</td>\n",
       "      <td>STONO</td>\n",
       "      <td>Miss</td>\n",
       "      <td>7.9250</td>\n",
       "      <td>0.0</td>\n",
       "      <td>0.0</td>\n",
       "      <td>26.0</td>\n",
       "      <td>23101282.0</td>\n",
       "      <td>1</td>\n",
       "      <td>3</td>\n",
       "      <td>1912-06</td>\n",
       "      <td>train_data</td>\n",
       "    </tr>\n",
       "    <tr>\n",
       "      <th>3</th>\n",
       "      <td>1</td>\n",
       "      <td>C</td>\n",
       "      <td>missing</td>\n",
       "      <td>Mrs</td>\n",
       "      <td>53.1000</td>\n",
       "      <td>1.0</td>\n",
       "      <td>0.0</td>\n",
       "      <td>35.0</td>\n",
       "      <td>113803.0</td>\n",
       "      <td>1</td>\n",
       "      <td>4</td>\n",
       "      <td>1912-04</td>\n",
       "      <td>train_data</td>\n",
       "    </tr>\n",
       "    <tr>\n",
       "      <th>4</th>\n",
       "      <td>3</td>\n",
       "      <td>missing</td>\n",
       "      <td>missing</td>\n",
       "      <td>Mrs</td>\n",
       "      <td>11.1333</td>\n",
       "      <td>0.0</td>\n",
       "      <td>2.0</td>\n",
       "      <td>27.0</td>\n",
       "      <td>347742.0</td>\n",
       "      <td>1</td>\n",
       "      <td>9</td>\n",
       "      <td>1912-05</td>\n",
       "      <td>train_data</td>\n",
       "    </tr>\n",
       "  </tbody>\n",
       "</table>\n",
       "</div>"
      ],
      "text/plain": [
       "   pclass cabine_prefix ticket_str nametitle     fare  sibsp  parch  age_mean  \\\n",
       "0       3       missing          A        Mr   7.2500    1.0    0.0      22.0   \n",
       "1       1             C         PC       Mrs  71.2833    1.0    0.0      38.0   \n",
       "2       3       missing      STONO      Miss   7.9250    0.0    0.0      26.0   \n",
       "3       1             C    missing       Mrs  53.1000    1.0    0.0      35.0   \n",
       "4       3       missing    missing       Mrs  11.1333    0.0    2.0      27.0   \n",
       "\n",
       "   ticket_int  survived  passengerid referencedate partition_0  \n",
       "0    521171.0         0            1       1912-05  train_data  \n",
       "1     17599.0         1            2       1912-04  train_data  \n",
       "2  23101282.0         1            3       1912-06  train_data  \n",
       "3    113803.0         1            4       1912-04  train_data  \n",
       "4    347742.0         1            9       1912-05  train_data  "
      ]
     },
     "execution_count": 7,
     "metadata": {},
     "output_type": "execute_result"
    }
   ],
   "source": [
    "#Ler a tabela titanic_propensity_survive e remover o campo embarked antes de salvar no DynamoDB\n",
    "query = \"SELECT * FROM auladeploymodelos.titanic_propensity_survive;\"\n",
    "dataprep_df = wr.athena.read_sql_query(query, database=\"auladeploymodelos\", boto3_session=my_boto3_session)\n",
    "del dataprep_df['embarked']\n",
    "dataprep_df.head()"
   ]
  },
  {
   "cell_type": "code",
   "execution_count": 8,
   "metadata": {},
   "outputs": [],
   "source": [
    "#Inserir os dados do Titanic na nova tabela criada no Dynamo\n",
    "def float_to_decimal(num):\n",
    "    return Decimal(str(num))\n",
    "\n",
    "def pandas_to_dynamodb(df):\n",
    "    df = df.fillna(0)\n",
    "    # convert any floats to decimals\n",
    "    for i in df.columns:\n",
    "        datatype = df[i].dtype\n",
    "        if datatype == 'float64':\n",
    "            df[i] = df[i].apply(float_to_decimal)\n",
    "    # write to dynamodb\n",
    "    wr.dynamodb.put_df(df=df, table_name='titanic-propensity-survive')\n",
    "\n",
    "pandas_to_dynamodb(dataprep_df)"
   ]
  },
  {
   "cell_type": "markdown",
   "metadata": {},
   "source": [
    "### 2. Substituir o StackedEnsemble_BestOfFamily_4_AutoML_1_20221011_230015.zip pelo nome do melhor modelo definido no step 2_Fast_Machine_Learning"
   ]
  },
  {
   "cell_type": "markdown",
   "metadata": {},
   "source": [
    "### 2.1 Editar e testar a função handler que será salva no aquivo ./deploy/handler.py"
   ]
  },
  {
   "cell_type": "code",
   "execution_count": 15,
   "metadata": {},
   "outputs": [],
   "source": [
    "def lambda_handler(event, context):\n",
    "    import h2o\n",
    "    import pandas as pd\n",
    "    import boto3    \n",
    "    import json\n",
    "    \n",
    "    #Best Model ID:\n",
    "    BestModelId='/home/sagemaker-user/FIEP-Modelos-de-Aprendizado-e-Arquiteturas-Cloud/output_model/models/best/StackedEnsemble_BestOfFamily_4_AutoML_1_20221020_20707.zip'\n",
    "    \n",
    "    #Keep the ratings ranges updated\n",
    "    def ratings(p1):\n",
    "        if p1 <= 0.2508362656036639:\n",
    "            return 1\n",
    "        elif p1 <= 0.6540492277407066:\n",
    "            return 2\n",
    "        else:\n",
    "            return 3\n",
    "\n",
    "    passenger_id = event['queryStringParameters']['passenger_id']\n",
    "    embarked = event['queryStringParameters']['embarked']\n",
    "    \n",
    "    #Criar conexão com o DynamoDB\n",
    "    my_boto3_session = boto3.Session(region_name='us-east-1')\n",
    "    \n",
    "    titanicTable = my_boto3_session.resource('dynamodb').Table('titanic-propensity-survive').get_item(Key={'passengerid': int(passenger_id)})['Item']\n",
    "    \n",
    "    #Fazer o tratamento do campo embarked para deixar com os valores conhecidos pelo modelo\n",
    "    if embarked == \"Cherbourg\":\n",
    "        embarked = \"C\"\n",
    "    elif embarked == \"Queenstown\":\n",
    "        embarked = \"Q\"\n",
    "    elif embarked == \"Southampton\":\n",
    "        embarked = \"S\"\n",
    "        \n",
    "    titanicTable['embarked'] = embarked\n",
    "    \n",
    "    del titanicTable['referencedate']\n",
    "    del titanicTable['passengerid']\n",
    "    del titanicTable['partition_0']\n",
    "    \n",
    "    predict_df = h2o.mojo_predict_pandas(pd.DataFrame(titanicTable, index=[0]).set_index('embarked', inplace=False), mojo_zip_path=BestModelId, genmodel_jar_path='./output_model/models/best/h2o-genmodel.jar', verbose=False).loc[:,('predict','p1')]\n",
    "            \n",
    "    def predict_func(predict):\n",
    "        if predict == 0:\n",
    "            return 'Not survive'\n",
    "        elif predict == 1:\n",
    "            return 'Survive'\n",
    "        else:\n",
    "            return 'predict_ERROR'\n",
    "    \n",
    "    predict_df['predict'] = predict_df.apply(lambda x: predict_func(x['predict']),axis=1).astype(str)\n",
    "    \n",
    "    predict_df['rating'] = predict_df.apply(lambda x: ratings(x['p1']),axis=1).astype(str)\n",
    "\n",
    "    body = {\n",
    "        \"message\": \"Prediction executed successfully!\"        \n",
    "    }\n",
    "\n",
    "    body['probability'] = round(predict_df['p1'][0],4)\n",
    "    body['rating'] = predict_df['rating'][0]\n",
    "    body['predict'] = predict_df['predict'][0]\n",
    "    \n",
    "    response = {\n",
    "        \"statusCode\": 200,\n",
    "        \"body\": json.dumps(body),\n",
    "        \"headers\": {\n",
    "            \"Access-Control-Allow-Origin\": \"*\"\n",
    "        }\n",
    "    }\n",
    "    \n",
    "    return response"
   ]
  },
  {
   "cell_type": "code",
   "execution_count": 16,
   "metadata": {},
   "outputs": [
    {
     "name": "stdout",
     "output_type": "stream",
     "text": [
      "{'statusCode': 200, 'body': '{\"message\": \"Prediction executed successfully!\", \"probability\": 0.9583, \"rating\": \"3\", \"predict\": \"Survive\"}', 'headers': {'Access-Control-Allow-Origin': '*'}}\n"
     ]
    }
   ],
   "source": [
    "# DEV\n",
    "event={\n",
    "    \"queryStringParameters\":{\"passenger_id\":\"2\", \"embarked\": \"Cherbourg\"}\n",
    "}\n",
    "context='context'\n",
    "print(lambda_handler(event, context))"
   ]
  },
  {
   "cell_type": "markdown",
   "metadata": {},
   "source": [
    "### 3. Votlar para o arquivo README.md e seguir as instruções em [AWS Cloudformation: Deploy usando Serverless](https://github.com/maxreis86/FIEP-Modelos-de-Aprendizado-e-Arquiteturas-Cloud#aws-cloudformation-deploy-usando-serverless)."
   ]
  }
 ],
 "metadata": {
  "instance_type": "ml.t3.medium",
  "kernelspec": {
   "display_name": "Python3 (aula-deploy-modelos/1)",
   "language": "python",
   "name": "Python3__SAGEMAKER_INTERNAL__arn:aws:sagemaker:us-east-1:256699671641:image-version/aula-deploy-modelos/1"
  },
  "language_info": {
   "codemirror_mode": {
    "name": "ipython",
    "version": 3
   },
   "file_extension": ".py",
   "mimetype": "text/x-python",
   "name": "python",
   "nbconvert_exporter": "python",
   "pygments_lexer": "ipython3",
   "version": "3.7.12"
  },
  "vscode": {
   "interpreter": {
    "hash": "5109d816b82be14675a6b11f8e0f0d2e80f029176ed3710d54e125caa8520dfd"
   }
  }
 },
 "nbformat": 4,
 "nbformat_minor": 4
}
