{
 "cells": [
  {
   "cell_type": "code",
   "execution_count": 59,
   "id": "524ee03f-277e-4572-b863-db15e640fb74",
   "metadata": {},
   "outputs": [],
   "source": [
    "# Amazon Transcribe Documentation\n",
    "# https://docs.aws.amazon.com/transcribe/latest/APIReference/API_StartTranscriptionJob.html"
   ]
  },
  {
   "cell_type": "code",
   "execution_count": 60,
   "id": "f959209a-4a42-448d-90d9-b7074055f710",
   "metadata": {},
   "outputs": [],
   "source": [
    "#Add correct path to the Python libraries\n",
    "try:\n",
    "    import sys\n",
    "    sys.path.append('/var/lang/lib/python37.zip')\n",
    "    sys.path.append('/var/lang/lib/python3.7')\n",
    "    sys.path.append('/var/lang/lib/python3.7/lib-dynload')\n",
    "    sys.path.append('/var/lang/lib/python3.7/site-packages')\n",
    "    sys.path.remove('/opt/.sagemakerinternal/conda/lib/python3.7/site-packages')\n",
    "except:\n",
    "    pass"
   ]
  },
  {
   "cell_type": "code",
   "execution_count": 61,
   "id": "5ae98011-0fde-4186-90a6-d98bcf506aec",
   "metadata": {},
   "outputs": [],
   "source": [
    "#Import libraries\n",
    "import boto3\n",
    "import json\n",
    "from time import gmtime, strftime, sleep\n",
    "import uuid\n",
    "import datetime as dt"
   ]
  },
  {
   "cell_type": "code",
   "execution_count": 62,
   "id": "51534df6-9bf2-4fb0-baf1-1a4a4e907a1f",
   "metadata": {},
   "outputs": [],
   "source": [
    "#Create boto3 sesesion\n",
    "boto3_session = boto3.Session(region_name='us-east-1')"
   ]
  },
  {
   "cell_type": "code",
   "execution_count": 63,
   "id": "0b66a524-b969-4a1a-9cca-6b3b22e09272",
   "metadata": {},
   "outputs": [],
   "source": [
    "#Transcribe\n",
    "transcribe = boto3_session.client('transcribe')"
   ]
  },
  {
   "cell_type": "code",
   "execution_count": 64,
   "id": "9fffcbc2-7139-4e57-b920-246b982e29a4",
   "metadata": {},
   "outputs": [],
   "source": [
    "def transcribe_post(post_id):\n",
    "    #Start transcription job\n",
    "    job_id = uuid.uuid4()\n",
    "    response = transcribe.start_transcription_job(\n",
    "        TranscriptionJobName=f'post-ingestion-transcription-{post_id}-{job_id}',\n",
    "        LanguageCode='en-US',        \n",
    "        MediaFormat='mp4',\n",
    "        Media={\n",
    "            'MediaFileUri': f's3://now-app-media-service/{post_id}.mp4'\n",
    "        },\n",
    "        OutputBucketName='now-app-media-service',\n",
    "        OutputKey= f'transcripts/python/{post_id}.json',\n",
    "        Settings={        \n",
    "            'ShowSpeakerLabels': True,\n",
    "            'MaxSpeakerLabels': 10,\n",
    "            'ChannelIdentification': False,\n",
    "            'ShowAlternatives': False            \n",
    "        },\n",
    "        Subtitles={\n",
    "            'Formats': [\n",
    "                'srt'\n",
    "            ],\n",
    "            'OutputStartIndex': 1\n",
    "        }    \n",
    "    )\n",
    "    \n",
    "    #wait until the job is finished\n",
    "    while response['TranscriptionJob']['TranscriptionJobStatus'] not in ('COMPLETED', 'FAILED'):\n",
    "        response = transcribe.get_transcription_job(\n",
    "            TranscriptionJobName=f'post-ingestion-transcription-{post_id}-{job_id}'\n",
    "        )\n",
    "        # print(\n",
    "        #     response['TranscriptionJob']['TranscriptionJobStatus'] + \" - \" + strftime(\"%d-%H-%M-%S\", gmtime())\n",
    "        # )\n",
    "        sleep(1)\n",
    "        \n",
    "    #print the transcription\n",
    "    s3 = boto3_session.resource('s3')\n",
    "    content_object = s3.Object('now-app-media-service', f'transcripts/python/{post_id}.json')\n",
    "    file_content = content_object.get()['Body'].read().decode('utf-8')\n",
    "    json_content = json.loads(file_content)\n",
    "    \n",
    "    print(post_id + ': ' + json_content['results']['transcripts'][0]['transcript'])\n",
    "    print('-----------------------------------------------------------------------')\n",
    "    \n",
    "    #Read the subtitles in srt file\n",
    "    srt_content_object = s3.Object('now-app-media-service', f'transcripts/python/{post_id}.srt')\n",
    "    srt_file_content = srt_content_object.get()['Body'].read().decode('utf-8')\n",
    "    \n",
    "    #Save to DynamoDB\n",
    "    put_item={}\n",
    "    put_item['id']=post_id\n",
    "    put_item['postTranscript']=json_content['results']['transcripts'][0]['transcript']\n",
    "    put_item['postSubtitles']=srt_file_content\n",
    "    put_item['postSpeakersNumber']=json_content['results']['speaker_labels']['speakers']\n",
    "    put_item['postedTimestamp'] = str(dt.datetime.now().isoformat())\n",
    "    \n",
    "    prod_post_table = boto3_session.resource('dynamodb').Table('prod-post')\n",
    "    prod_post_table.put_item(Item=put_item)"
   ]
  },
  {
   "cell_type": "code",
   "execution_count": null,
   "id": "37612772-80b6-47f3-b48e-4fab42872766",
   "metadata": {},
   "outputs": [
    {
     "name": "stdout",
     "output_type": "stream",
     "text": [
      "N26: Over the weekend here in Newport, police officers getting in a skirmish with several men here on the same street in town. Now video taken that was shared with AbC six, showing the officers pressing a man against a trolley, as well as pushing another one into a telephone pole, and then a third man getting punched in the face by police off Newport. Police tell me that the incidents stem from two arrests made that night with four local individuals involved. They do say that the chief has been made aware of these incidents and they are thoroughly investigating this. At this time, I am told that there is no word on if the officers in the video have been identified for any conduct that could come with them.\n",
      "-----------------------------------------------------------------------\n",
      "N27: More major renovations to the high school athletic fields in North Attleborough hit a snag back in 2019. The bleachers at the high school were found unsafe and closed. Since then, the North Attleborough High School has planned to replace these temporary bleachers and the track surrounding the new turf field. But just this past week, the superintendent of schools told the town council that inflation has the cost of these replace Much higher than the original estimate, not to mention the added cost of needed new concessions, as well as code compliant restrooms that were also added to the plans. Originally, the estimate was 1.8 million. Now the price tag is closer to six million, and residents have been complaining for years that the project has not been complete and now are upset about the added costs.\n",
      "-----------------------------------------------------------------------\n",
      "N28: Big news in America today as robbi wade has been overturned by the Supreme Court, giving individual states the ability to ban abortions. We caught up with former Rhode Island Supreme Court justice, who discusses the legal ramifications that we'll see going forward after this has been overturned with where you can get an abortion, where their band and what's next areas like the Northeast are going to be very strong in favor of preserving the right to an abortion. Others in the South and the Midwest, and some Western states are going to either ban it or restrict it very severely.\n",
      "-----------------------------------------------------------------------\n",
      "N29: On friday Stephen Baudolino, the laundry family attorney, released eight pages from brian laundries notebook that was found near his remains back in october of 2021. The rambling, eight page narrative is a part confession, part love letter. And in the end a suicide note BRian wrote quote, I ended her life. I thought it was merciful that it is what she wanted. But I see now all the mistakes I made further, he notes, quote, I am ending my life not because of fear of punishment, but rather because I can't stand to live another day without her.\n",
      "-----------------------------------------------------------------------\n",
      "N31: here outside of the atlantic sports bar and restaurant in Tiverton on Shop Street. After they received backlash for a since deleted social media post on friday, an employee posted a meme referring to the heat wave with a picture of anne frank. Here is a screenshot of the meme. It says it's hotter than an oven out there and I should know it. Abc six News spoke to a worker who said that the employee that posted the meme was unaware of the person in the picture, but quickly deleted it after realizing who it was and frank was a teenager who died in the holocaust frank. The diary of anne frank became one of the most recognized stories in history. The atlantic sports bar is closed today and the parking lot is empty. It is closed every monday, but the post continues to circulate across social media will keep you up to date on the aftermath of this story and let us know your thoughts in the comments.\n",
      "-----------------------------------------------------------------------\n",
      "N32: We're following breaking news. A presidential visit to southern New England. President Joe Biden set to return to T. F. Green at any moment. Now, after a visiting Brayton Point in Somerset, it was there where the president delivered his message on his fight against climate change, the 90 degree heat helping fuel that fire in his fight. I come here today with a message as president, I have a responsibility to act with urgency and resolve when our nation faces clear and present danger and that's what climate change is about. It is literally not figuratively a clear and present danger.\n",
      "-----------------------------------------------------------------------\n",
      "N33: the FBI massachusetts State Police and Westport Police here on scene at the Hells Angels Cape Cod motorcycle club. Now, the FBI does confirm with us that this is in connection to a federal investigation. They tell us they are executing a court authorized activity here at the club this morning. Now, we have been on scene since about nine o'clock this morning and there have been nearly a dozen local state and federal police cruisers here on scene, as well as heavily armed FBI and state police officers with assault rifles, as well as bulletproof vest. We have seen some activity in the club here behind us, behind this wooded dirt area on the american legion highway in Westport, we have seen some federal officers walking in and out of a Hells Angels clubhouse. We have not been able to see at this time what they may be carrying or what they may be doing back there, But again, a very active scene today, where the FBI local police, as well as state police, are carrying out a federal investigation here at the Hells Angels Cape Cod motorcycle club along the american legion highway in Westport\n",
      "-----------------------------------------------------------------------\n",
      "N34: Let's Go Brandon Stores in Warwick and North Attleborough closed this week. The owner of the stores told Abc six news that the locations were closed because the buildings were for sale. The store's name is derived from the tongue in cheek chant for opponents of President joe biden, and it opened in december. And as you can see here, this Warwick location on Post Road is already under construction.\n",
      "-----------------------------------------------------------------------\n",
      "N35: The ferry terminal is busy as always today, but the talk of the town is what happened last night, as we learned that one man has been taken to the hospital with facial injuries following a fight that broke out on the ferry, viewers have been reaching out with exclusive videos from their perspectives on on board, showing law enforcement literally leaping onto the moving ferry to break up this violent scene, which many are telling us they wish to not relive. With four men being taken off the boat in handcuffs. The Rhode Island State police will be releasing more information about this incident and the story behind it.\n",
      "-----------------------------------------------------------------------\n",
      "N36: We are here at the infamous and historic battleship cove in Fall River, where they just announced they will be undergoing a massive renovation project. $1 million will be coming from the American Rescue Plan Act, or covid relief money that, along with $250,000 of the museum's own money, the battleship massive Choose. It's a World War II vessel and crown jewel of battleship cove is undergoing these renovations for the first time since the 90s. Workers are diligently removing rust and corrosion from more than 37,000 square feet of the ship's hull on the ship's 80th anniversary since its commissioning. It will also receive a brand new paint job.\n",
      "-----------------------------------------------------------------------\n",
      "N37: We'll be paying close attention to the town of Warren today, the town council, they're voting tonight to ban the use of pot in public places. They develop this proposal last month, only a couple months after the state of Rhode Island legalized the use of recreational marijuana, leaving it up to the towns and cities to regulate it in their communities. And That is exactly what Warren is doing. If the proposal passes, Warren would be the first town in the state to put a band like this in place. According to this proposed ordinance, their public places would include public streets, parking lots, parks and athletic centers. Again, that Warren Town Council planning to vote on this measure tonight at their meeting. That council meeting gets underway at 7:00.\n",
      "-----------------------------------------------------------------------\n"
     ]
    }
   ],
   "source": [
    "transcribe_post('N26')\n",
    "transcribe_post('N27')\n",
    "transcribe_post('N28')\n",
    "transcribe_post('N29')\n",
    "transcribe_post('N31')\n",
    "transcribe_post('N32')\n",
    "transcribe_post('N33')\n",
    "transcribe_post('N34')\n",
    "transcribe_post('N35')\n",
    "transcribe_post('N36')\n",
    "transcribe_post('N37')\n",
    "transcribe_post('N38')\n",
    "transcribe_post('N39')\n",
    "transcribe_post('N40')\n",
    "transcribe_post('N42')\n",
    "transcribe_post('N43')\n",
    "transcribe_post('N44')\n",
    "transcribe_post('N45')\n",
    "transcribe_post('N46')\n",
    "transcribe_post('N47')"
   ]
  }
 ],
 "metadata": {
  "instance_type": "ml.t3.medium",
  "kernelspec": {
   "display_name": "Python3 (now-app-recommendation-ds/1)",
   "language": "python",
   "name": "Python3__SAGEMAKER_INTERNAL__arn:aws:sagemaker:us-east-1:183286346090:image-version/now-app-recommendation-ds/1"
  },
  "language_info": {
   "codemirror_mode": {
    "name": "ipython",
    "version": 3
   },
   "file_extension": ".py",
   "mimetype": "text/x-python",
   "name": "python",
   "nbconvert_exporter": "python",
   "pygments_lexer": "ipython3",
   "version": "3.7.12"
  }
 },
 "nbformat": 4,
 "nbformat_minor": 5
}
