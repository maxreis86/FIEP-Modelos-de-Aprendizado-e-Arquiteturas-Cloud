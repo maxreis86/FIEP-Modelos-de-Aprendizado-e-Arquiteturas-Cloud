{
 "cells": [
  {
   "cell_type": "code",
   "execution_count": 2,
   "id": "6a858482-e634-409e-91df-c8a005eb88e0",
   "metadata": {},
   "outputs": [],
   "source": [
    "#Add correct path to the Python libraries\n",
    "try:\n",
    "    import sys\n",
    "    sys.path.append('/var/lang/lib/python37.zip')\n",
    "    sys.path.append('/var/lang/lib/python3.7')\n",
    "    sys.path.append('/var/lang/lib/python3.7/lib-dynload')\n",
    "    sys.path.append('/var/lang/lib/python3.7/site-packages')\n",
    "    sys.path.remove('/opt/.sagemakerinternal/conda/lib/python3.7/site-packages')\n",
    "except:\n",
    "    pass"
   ]
  },
  {
   "cell_type": "code",
   "execution_count": 16,
   "id": "9cc5450b-2713-4f62-ae91-8ef236088bb5",
   "metadata": {},
   "outputs": [],
   "source": [
    "#Import libraries\n",
    "import boto3\n",
    "import datetime as dt\n",
    "import json\n",
    "from decimal import Decimal"
   ]
  },
  {
   "cell_type": "code",
   "execution_count": 4,
   "id": "0169d72a-b7c6-4fe2-b1f7-0bba32888505",
   "metadata": {},
   "outputs": [],
   "source": [
    "#Create boto3 sesesion\n",
    "boto3_session = boto3.Session(region_name='us-east-1')"
   ]
  },
  {
   "cell_type": "code",
   "execution_count": 5,
   "id": "302d1770-0241-4852-af20-1c2a70877abe",
   "metadata": {
    "collapsed": true,
    "jupyter": {
     "outputs_hidden": true
    },
    "tags": []
   },
   "outputs": [
    {
     "name": "stdout",
     "output_type": "stream",
     "text": [
      "Collecting transformers\n",
      "  Downloading transformers-4.23.1-py3-none-any.whl (5.3 MB)\n",
      "\u001b[2K     \u001b[90m━━━━━━━━━━━━━━━━━━━━━━━━━━━━━━━━━━━━━━━━\u001b[0m \u001b[32m5.3/5.3 MB\u001b[0m \u001b[31m78.3 MB/s\u001b[0m eta \u001b[36m0:00:00\u001b[0mta \u001b[36m0:00:01\u001b[0m\n",
      "\u001b[?25hRequirement already satisfied: numpy>=1.17 in /var/lang/lib/python3.7/site-packages (from transformers) (1.21.6)\n",
      "Collecting tokenizers!=0.11.3,<0.14,>=0.11.1\n",
      "  Downloading tokenizers-0.13.1-cp37-cp37m-manylinux_2_17_x86_64.manylinux2014_x86_64.whl (7.6 MB)\n",
      "\u001b[2K     \u001b[90m━━━━━━━━━━━━━━━━━━━━━━━━━━━━━━━━━━━━━━━━\u001b[0m \u001b[32m7.6/7.6 MB\u001b[0m \u001b[31m51.6 MB/s\u001b[0m eta \u001b[36m0:00:00\u001b[0m:00:01\u001b[0m00:01\u001b[0m\n",
      "\u001b[?25hRequirement already satisfied: packaging>=20.0 in /var/lang/lib/python3.7/site-packages (from transformers) (21.3)\n",
      "Requirement already satisfied: requests in /var/lang/lib/python3.7/site-packages (from transformers) (2.28.1)\n",
      "Collecting huggingface-hub<1.0,>=0.10.0\n",
      "  Downloading huggingface_hub-0.10.1-py3-none-any.whl (163 kB)\n",
      "\u001b[2K     \u001b[90m━━━━━━━━━━━━━━━━━━━━━━━━━━━━━━━━━━━━━━\u001b[0m \u001b[32m163.5/163.5 kB\u001b[0m \u001b[31m27.9 MB/s\u001b[0m eta \u001b[36m0:00:00\u001b[0m\n",
      "\u001b[?25hCollecting pyyaml>=5.1\n",
      "  Downloading PyYAML-6.0-cp37-cp37m-manylinux_2_5_x86_64.manylinux1_x86_64.manylinux_2_12_x86_64.manylinux2010_x86_64.whl (596 kB)\n",
      "\u001b[2K     \u001b[90m━━━━━━━━━━━━━━━━━━━━━━━━━━━━━━━━━━━━━━\u001b[0m \u001b[32m596.3/596.3 kB\u001b[0m \u001b[31m18.9 MB/s\u001b[0m eta \u001b[36m0:00:00\u001b[0m\n",
      "\u001b[?25hRequirement already satisfied: importlib-metadata in /var/lang/lib/python3.7/site-packages (from transformers) (4.13.0)\n",
      "Collecting regex!=2019.12.17\n",
      "  Downloading regex-2022.9.13-cp37-cp37m-manylinux_2_17_x86_64.manylinux2014_x86_64.whl (757 kB)\n",
      "\u001b[2K     \u001b[90m━━━━━━━━━━━━━━━━━━━━━━━━━━━━━━━━━━━━━━\u001b[0m \u001b[32m757.0/757.0 kB\u001b[0m \u001b[31m61.1 MB/s\u001b[0m eta \u001b[36m0:00:00\u001b[0m\n",
      "\u001b[?25hRequirement already satisfied: tqdm>=4.27 in /var/lang/lib/python3.7/site-packages (from transformers) (4.64.1)\n",
      "Collecting filelock\n",
      "  Downloading filelock-3.8.0-py3-none-any.whl (10 kB)\n",
      "Requirement already satisfied: typing-extensions>=3.7.4.3 in /var/lang/lib/python3.7/site-packages (from huggingface-hub<1.0,>=0.10.0->transformers) (4.4.0)\n",
      "Requirement already satisfied: pyparsing!=3.0.5,>=2.0.2 in /var/lang/lib/python3.7/site-packages (from packaging>=20.0->transformers) (3.0.9)\n",
      "Requirement already satisfied: zipp>=0.5 in /var/lang/lib/python3.7/site-packages (from importlib-metadata->transformers) (3.9.0)\n",
      "Requirement already satisfied: certifi>=2017.4.17 in /var/lang/lib/python3.7/site-packages (from requests->transformers) (2022.9.24)\n",
      "Requirement already satisfied: urllib3<1.27,>=1.21.1 in /var/lang/lib/python3.7/site-packages (from requests->transformers) (1.26.12)\n",
      "Requirement already satisfied: charset-normalizer<3,>=2 in /var/lang/lib/python3.7/site-packages (from requests->transformers) (2.1.1)\n",
      "Requirement already satisfied: idna<4,>=2.5 in /var/lang/lib/python3.7/site-packages (from requests->transformers) (3.4)\n",
      "Installing collected packages: tokenizers, regex, pyyaml, filelock, huggingface-hub, transformers\n",
      "Successfully installed filelock-3.8.0 huggingface-hub-0.10.1 pyyaml-6.0 regex-2022.9.13 tokenizers-0.13.1 transformers-4.23.1\n",
      "\u001b[33mWARNING: Running pip as the 'root' user can result in broken permissions and conflicting behaviour with the system package manager. It is recommended to use a virtual environment instead: https://pip.pypa.io/warnings/venv\u001b[0m\u001b[33m\n",
      "\u001b[0m\n",
      "\u001b[1m[\u001b[0m\u001b[34;49mnotice\u001b[0m\u001b[1;39;49m]\u001b[0m\u001b[39;49m A new release of pip available: \u001b[0m\u001b[31;49m22.1.2\u001b[0m\u001b[39;49m -> \u001b[0m\u001b[32;49m22.2.2\u001b[0m\n",
      "\u001b[1m[\u001b[0m\u001b[34;49mnotice\u001b[0m\u001b[1;39;49m]\u001b[0m\u001b[39;49m To update, run: \u001b[0m\u001b[32;49mpip install --upgrade pip\u001b[0m\n"
     ]
    }
   ],
   "source": [
    "!pip install transformers"
   ]
  },
  {
   "cell_type": "code",
   "execution_count": 6,
   "id": "16752318-da1b-4773-b307-df0ab2d6c70a",
   "metadata": {
    "collapsed": true,
    "jupyter": {
     "outputs_hidden": true
    },
    "tags": []
   },
   "outputs": [
    {
     "name": "stdout",
     "output_type": "stream",
     "text": [
      "Requirement already satisfied: transformers[flax] in /var/lang/lib/python3.7/site-packages (4.23.1)\n",
      "Requirement already satisfied: requests in /var/lang/lib/python3.7/site-packages (from transformers[flax]) (2.28.1)\n",
      "Requirement already satisfied: huggingface-hub<1.0,>=0.10.0 in /var/lang/lib/python3.7/site-packages (from transformers[flax]) (0.10.1)\n",
      "Requirement already satisfied: tokenizers!=0.11.3,<0.14,>=0.11.1 in /var/lang/lib/python3.7/site-packages (from transformers[flax]) (0.13.1)\n",
      "Requirement already satisfied: regex!=2019.12.17 in /var/lang/lib/python3.7/site-packages (from transformers[flax]) (2022.9.13)\n",
      "Requirement already satisfied: importlib-metadata in /var/lang/lib/python3.7/site-packages (from transformers[flax]) (4.13.0)\n",
      "Requirement already satisfied: numpy>=1.17 in /var/lang/lib/python3.7/site-packages (from transformers[flax]) (1.21.6)\n",
      "Requirement already satisfied: tqdm>=4.27 in /var/lang/lib/python3.7/site-packages (from transformers[flax]) (4.64.1)\n",
      "Requirement already satisfied: packaging>=20.0 in /var/lang/lib/python3.7/site-packages (from transformers[flax]) (21.3)\n",
      "Requirement already satisfied: filelock in /var/lang/lib/python3.7/site-packages (from transformers[flax]) (3.8.0)\n",
      "Requirement already satisfied: pyyaml>=5.1 in /var/lang/lib/python3.7/site-packages (from transformers[flax]) (6.0)\n",
      "Collecting optax>=0.0.8\n",
      "  Downloading optax-0.1.3-py3-none-any.whl (145 kB)\n",
      "\u001b[2K     \u001b[90m━━━━━━━━━━━━━━━━━━━━━━━━━━━━━━━━━━━━━━\u001b[0m \u001b[32m145.1/145.1 kB\u001b[0m \u001b[31m29.1 MB/s\u001b[0m eta \u001b[36m0:00:00\u001b[0m\n",
      "\u001b[?25hCollecting jaxlib<=0.3.6,>=0.1.65\n",
      "  Downloading jaxlib-0.3.5-cp37-none-manylinux2010_x86_64.whl (62.5 MB)\n",
      "\u001b[2K     \u001b[90m━━━━━━━━━━━━━━━━━━━━━━━━━━━━━━━━━━━━━━━━\u001b[0m \u001b[32m62.5/62.5 MB\u001b[0m \u001b[31m32.0 MB/s\u001b[0m eta \u001b[36m0:00:00\u001b[0m00:01\u001b[0m00:01\u001b[0m\n",
      "\u001b[?25hCollecting jax!=0.3.2,<=0.3.6,>=0.2.8\n",
      "  Downloading jax-0.3.6.tar.gz (936 kB)\n",
      "\u001b[2K     \u001b[90m━━━━━━━━━━━━━━━━━━━━━━━━━━━━━━━━━━━━━━\u001b[0m \u001b[32m936.8/936.8 kB\u001b[0m \u001b[31m75.3 MB/s\u001b[0m eta \u001b[36m0:00:00\u001b[0m\n",
      "\u001b[?25h  Preparing metadata (setup.py) ... \u001b[?25ldone\n",
      "\u001b[?25hCollecting flax>=0.4.1\n",
      "  Downloading flax-0.6.1-py3-none-any.whl (185 kB)\n",
      "\u001b[2K     \u001b[90m━━━━━━━━━━━━━━━━━━━━━━━━━━━━━━━━━━━━━━\u001b[0m \u001b[32m185.6/185.6 kB\u001b[0m \u001b[31m34.6 MB/s\u001b[0m eta \u001b[36m0:00:00\u001b[0m\n",
      "\u001b[?25h  Downloading flax-0.6.0-py3-none-any.whl (180 kB)\n",
      "\u001b[2K     \u001b[90m━━━━━━━━━━━━━━━━━━━━━━━━━━━━━━━━━━━━━━━\u001b[0m \u001b[32m180.1/180.1 kB\u001b[0m \u001b[31m5.5 MB/s\u001b[0m eta \u001b[36m0:00:00\u001b[0m\n",
      "\u001b[?25h  Downloading flax-0.5.3-py3-none-any.whl (202 kB)\n",
      "\u001b[2K     \u001b[90m━━━━━━━━━━━━━━━━━━━━━━━━━━━━━━━━━━━━━━\u001b[0m \u001b[32m202.0/202.0 kB\u001b[0m \u001b[31m42.1 MB/s\u001b[0m eta \u001b[36m0:00:00\u001b[0m\n",
      "\u001b[?25hRequirement already satisfied: matplotlib in /var/lang/lib/python3.7/site-packages (from flax>=0.4.1->transformers[flax]) (3.2.1)\n",
      "Collecting rich~=11.1\n",
      "  Downloading rich-11.2.0-py3-none-any.whl (217 kB)\n",
      "\u001b[2K     \u001b[90m━━━━━━━━━━━━━━━━━━━━━━━━━━━━━━━━━━━━━━\u001b[0m \u001b[32m217.3/217.3 kB\u001b[0m \u001b[31m32.7 MB/s\u001b[0m eta \u001b[36m0:00:00\u001b[0m\n",
      "\u001b[?25hRequirement already satisfied: typing-extensions>=4.1.1 in /var/lang/lib/python3.7/site-packages (from flax>=0.4.1->transformers[flax]) (4.4.0)\n",
      "Collecting msgpack\n",
      "  Downloading msgpack-1.0.4-cp37-cp37m-manylinux_2_17_x86_64.manylinux2014_x86_64.whl (299 kB)\n",
      "\u001b[2K     \u001b[90m━━━━━━━━━━━━━━━━━━━━━━━━━━━━━━━━━━━━━━━\u001b[0m \u001b[32m299.8/299.8 kB\u001b[0m \u001b[31m8.0 MB/s\u001b[0m eta \u001b[36m0:00:00\u001b[0m00:01\u001b[0m\n",
      "\u001b[?25hCollecting tensorstore\n",
      "  Downloading tensorstore-0.1.27-cp37-cp37m-manylinux_2_17_x86_64.manylinux2014_x86_64.whl (8.1 MB)\n",
      "\u001b[2K     \u001b[90m━━━━━━━━━━━━━━━━━━━━━━━━━━━━━━━━━━━━━━━━\u001b[0m \u001b[32m8.1/8.1 MB\u001b[0m \u001b[31m80.9 MB/s\u001b[0m eta \u001b[36m0:00:00\u001b[0m:00:01\u001b[0m00:01\u001b[0m\n",
      "\u001b[?25hCollecting absl-py\n",
      "  Downloading absl_py-1.2.0-py3-none-any.whl (123 kB)\n",
      "\u001b[2K     \u001b[90m━━━━━━━━━━━━━━━━━━━━━━━━━━━━━━━━━━━━━━\u001b[0m \u001b[32m123.4/123.4 kB\u001b[0m \u001b[31m31.1 MB/s\u001b[0m eta \u001b[36m0:00:00\u001b[0m\n",
      "\u001b[?25hCollecting opt_einsum\n",
      "  Downloading opt_einsum-3.3.0-py3-none-any.whl (65 kB)\n",
      "\u001b[2K     \u001b[90m━━━━━━━━━━━━━━━━━━━━━━━━━━━━━━━━━━━━━━━━\u001b[0m \u001b[32m65.5/65.5 kB\u001b[0m \u001b[31m14.9 MB/s\u001b[0m eta \u001b[36m0:00:00\u001b[0m\n",
      "\u001b[?25hRequirement already satisfied: scipy>=1.2.1 in /var/lang/lib/python3.7/site-packages (from jax!=0.3.2,<=0.3.6,>=0.2.8->transformers[flax]) (1.7.3)\n",
      "Collecting flatbuffers<3.0,>=1.12\n",
      "  Downloading flatbuffers-2.0.7-py2.py3-none-any.whl (26 kB)\n",
      "Collecting chex>=0.0.4\n",
      "  Downloading chex-0.1.5-py3-none-any.whl (85 kB)\n",
      "\u001b[2K     \u001b[90m━━━━━━━━━━━━━━━━━━━━━━━━━━━━━━━━━━━━━━━━\u001b[0m \u001b[32m85.3/85.3 kB\u001b[0m \u001b[31m21.3 MB/s\u001b[0m eta \u001b[36m0:00:00\u001b[0m\n",
      "\u001b[?25hRequirement already satisfied: pyparsing!=3.0.5,>=2.0.2 in /var/lang/lib/python3.7/site-packages (from packaging>=20.0->transformers[flax]) (3.0.9)\n",
      "Requirement already satisfied: zipp>=0.5 in /var/lang/lib/python3.7/site-packages (from importlib-metadata->transformers[flax]) (3.9.0)\n",
      "Requirement already satisfied: charset-normalizer<3,>=2 in /var/lang/lib/python3.7/site-packages (from requests->transformers[flax]) (2.1.1)\n",
      "Requirement already satisfied: idna<4,>=2.5 in /var/lang/lib/python3.7/site-packages (from requests->transformers[flax]) (3.4)\n",
      "Requirement already satisfied: certifi>=2017.4.17 in /var/lang/lib/python3.7/site-packages (from requests->transformers[flax]) (2022.9.24)\n",
      "Requirement already satisfied: urllib3<1.27,>=1.21.1 in /var/lang/lib/python3.7/site-packages (from requests->transformers[flax]) (1.26.12)\n",
      "Collecting dm-tree>=0.1.5\n",
      "  Downloading dm_tree-0.1.7-cp37-cp37m-manylinux_2_12_x86_64.manylinux2010_x86_64.whl (143 kB)\n",
      "\u001b[2K     \u001b[90m━━━━━━━━━━━━━━━━━━━━━━━━━━━━━━━━━━━━━━\u001b[0m \u001b[32m143.3/143.3 kB\u001b[0m \u001b[31m23.8 MB/s\u001b[0m eta \u001b[36m0:00:00\u001b[0m\n",
      "\u001b[?25hCollecting toolz>=0.9.0\n",
      "  Downloading toolz-0.12.0-py3-none-any.whl (55 kB)\n",
      "\u001b[2K     \u001b[90m━━━━━━━━━━━━━━━━━━━━━━━━━━━━━━━━━━━━━━━━\u001b[0m \u001b[32m55.8/55.8 kB\u001b[0m \u001b[31m14.5 MB/s\u001b[0m eta \u001b[36m0:00:00\u001b[0m\n",
      "\u001b[?25hCollecting commonmark<0.10.0,>=0.9.0\n",
      "  Downloading commonmark-0.9.1-py2.py3-none-any.whl (51 kB)\n",
      "\u001b[2K     \u001b[90m━━━━━━━━━━━━━━━━━━━━━━━━━━━━━━━━━━━━━━━━\u001b[0m \u001b[32m51.1/51.1 kB\u001b[0m \u001b[31m12.6 MB/s\u001b[0m eta \u001b[36m0:00:00\u001b[0m\n",
      "\u001b[?25hRequirement already satisfied: pygments<3.0.0,>=2.6.0 in /var/lang/lib/python3.7/site-packages (from rich~=11.1->flax>=0.4.1->transformers[flax]) (2.13.0)\n",
      "Collecting colorama<0.5.0,>=0.4.0\n",
      "  Downloading colorama-0.4.5-py2.py3-none-any.whl (16 kB)\n",
      "Requirement already satisfied: python-dateutil>=2.1 in /var/lang/lib/python3.7/site-packages (from matplotlib->flax>=0.4.1->transformers[flax]) (2.8.2)\n",
      "Requirement already satisfied: cycler>=0.10 in /var/lang/lib/python3.7/site-packages (from matplotlib->flax>=0.4.1->transformers[flax]) (0.11.0)\n",
      "Requirement already satisfied: kiwisolver>=1.0.1 in /var/lang/lib/python3.7/site-packages (from matplotlib->flax>=0.4.1->transformers[flax]) (1.4.4)\n",
      "Requirement already satisfied: six>=1.5 in /var/lang/lib/python3.7/site-packages (from python-dateutil>=2.1->matplotlib->flax>=0.4.1->transformers[flax]) (1.16.0)\n",
      "Using legacy 'setup.py install' for jax, since package 'wheel' is not installed.\n",
      "Installing collected packages: msgpack, flatbuffers, dm-tree, commonmark, toolz, tensorstore, opt_einsum, colorama, absl-py, rich, jaxlib, jax, chex, optax, flax\n",
      "  Running setup.py install for jax ... \u001b[?25ldone\n",
      "\u001b[?25hSuccessfully installed absl-py-1.2.0 chex-0.1.5 colorama-0.4.5 commonmark-0.9.1 dm-tree-0.1.7 flatbuffers-2.0.7 flax-0.5.3 jax-0.3.6 jaxlib-0.3.5 msgpack-1.0.4 opt_einsum-3.3.0 optax-0.1.3 rich-11.2.0 tensorstore-0.1.27 toolz-0.12.0\n",
      "\u001b[33mWARNING: Running pip as the 'root' user can result in broken permissions and conflicting behaviour with the system package manager. It is recommended to use a virtual environment instead: https://pip.pypa.io/warnings/venv\u001b[0m\u001b[33m\n",
      "\u001b[0m\n",
      "\u001b[1m[\u001b[0m\u001b[34;49mnotice\u001b[0m\u001b[1;39;49m]\u001b[0m\u001b[39;49m A new release of pip available: \u001b[0m\u001b[31;49m22.1.2\u001b[0m\u001b[39;49m -> \u001b[0m\u001b[32;49m22.2.2\u001b[0m\n",
      "\u001b[1m[\u001b[0m\u001b[34;49mnotice\u001b[0m\u001b[1;39;49m]\u001b[0m\u001b[39;49m To update, run: \u001b[0m\u001b[32;49mpip install --upgrade pip\u001b[0m\n"
     ]
    }
   ],
   "source": [
    "!pip install transformers[flax]"
   ]
  },
  {
   "cell_type": "code",
   "execution_count": 7,
   "id": "16553e13-51b8-43c1-a734-f05d37a19139",
   "metadata": {
    "collapsed": true,
    "jupyter": {
     "outputs_hidden": true
    },
    "tags": []
   },
   "outputs": [
    {
     "name": "stdout",
     "output_type": "stream",
     "text": [
      "Requirement already satisfied: transformers[torch] in /var/lang/lib/python3.7/site-packages (4.23.1)\n",
      "Requirement already satisfied: pyyaml>=5.1 in /var/lang/lib/python3.7/site-packages (from transformers[torch]) (6.0)\n",
      "Requirement already satisfied: filelock in /var/lang/lib/python3.7/site-packages (from transformers[torch]) (3.8.0)\n",
      "Requirement already satisfied: huggingface-hub<1.0,>=0.10.0 in /var/lang/lib/python3.7/site-packages (from transformers[torch]) (0.10.1)\n",
      "Requirement already satisfied: numpy>=1.17 in /var/lang/lib/python3.7/site-packages (from transformers[torch]) (1.21.6)\n",
      "Requirement already satisfied: regex!=2019.12.17 in /var/lang/lib/python3.7/site-packages (from transformers[torch]) (2022.9.13)\n",
      "Requirement already satisfied: tqdm>=4.27 in /var/lang/lib/python3.7/site-packages (from transformers[torch]) (4.64.1)\n",
      "Requirement already satisfied: importlib-metadata in /var/lang/lib/python3.7/site-packages (from transformers[torch]) (4.13.0)\n",
      "Requirement already satisfied: tokenizers!=0.11.3,<0.14,>=0.11.1 in /var/lang/lib/python3.7/site-packages (from transformers[torch]) (0.13.1)\n",
      "Requirement already satisfied: packaging>=20.0 in /var/lang/lib/python3.7/site-packages (from transformers[torch]) (21.3)\n",
      "Requirement already satisfied: requests in /var/lang/lib/python3.7/site-packages (from transformers[torch]) (2.28.1)\n",
      "Collecting torch!=1.12.0,>=1.7\n",
      "  Downloading torch-1.12.1-cp37-cp37m-manylinux1_x86_64.whl (776.3 MB)\n",
      "\u001b[2K     \u001b[90m━━━━━━━━━━━━━━━━━━━━━━━━━━━━━━━━━━━━━\u001b[0m \u001b[32m776.3/776.3 MB\u001b[0m \u001b[31m867.6 kB/s\u001b[0m eta \u001b[36m0:00:00\u001b[0m00:01\u001b[0m00:01\u001b[0m\n",
      "\u001b[?25hRequirement already satisfied: typing-extensions>=3.7.4.3 in /var/lang/lib/python3.7/site-packages (from huggingface-hub<1.0,>=0.10.0->transformers[torch]) (4.4.0)\n",
      "Requirement already satisfied: pyparsing!=3.0.5,>=2.0.2 in /var/lang/lib/python3.7/site-packages (from packaging>=20.0->transformers[torch]) (3.0.9)\n",
      "Requirement already satisfied: zipp>=0.5 in /var/lang/lib/python3.7/site-packages (from importlib-metadata->transformers[torch]) (3.9.0)\n",
      "Requirement already satisfied: charset-normalizer<3,>=2 in /var/lang/lib/python3.7/site-packages (from requests->transformers[torch]) (2.1.1)\n",
      "Requirement already satisfied: urllib3<1.27,>=1.21.1 in /var/lang/lib/python3.7/site-packages (from requests->transformers[torch]) (1.26.12)\n",
      "Requirement already satisfied: idna<4,>=2.5 in /var/lang/lib/python3.7/site-packages (from requests->transformers[torch]) (3.4)\n",
      "Requirement already satisfied: certifi>=2017.4.17 in /var/lang/lib/python3.7/site-packages (from requests->transformers[torch]) (2022.9.24)\n",
      "Installing collected packages: torch\n",
      "Successfully installed torch-1.12.1\n",
      "\u001b[33mWARNING: Running pip as the 'root' user can result in broken permissions and conflicting behaviour with the system package manager. It is recommended to use a virtual environment instead: https://pip.pypa.io/warnings/venv\u001b[0m\u001b[33m\n",
      "\u001b[0m\n",
      "\u001b[1m[\u001b[0m\u001b[34;49mnotice\u001b[0m\u001b[1;39;49m]\u001b[0m\u001b[39;49m A new release of pip available: \u001b[0m\u001b[31;49m22.1.2\u001b[0m\u001b[39;49m -> \u001b[0m\u001b[32;49m22.2.2\u001b[0m\n",
      "\u001b[1m[\u001b[0m\u001b[34;49mnotice\u001b[0m\u001b[1;39;49m]\u001b[0m\u001b[39;49m To update, run: \u001b[0m\u001b[32;49mpip install --upgrade pip\u001b[0m\n"
     ]
    }
   ],
   "source": [
    "!pip install transformers[torch]"
   ]
  },
  {
   "cell_type": "code",
   "execution_count": 8,
   "id": "4b64d3c8-2194-49f9-8e1e-20c6147130b2",
   "metadata": {
    "collapsed": true,
    "jupyter": {
     "outputs_hidden": true
    },
    "tags": []
   },
   "outputs": [
    {
     "name": "stdout",
     "output_type": "stream",
     "text": [
      "Requirement already satisfied: transformers[tf-cpu] in /var/lang/lib/python3.7/site-packages (4.23.1)\n",
      "Requirement already satisfied: regex!=2019.12.17 in /var/lang/lib/python3.7/site-packages (from transformers[tf-cpu]) (2022.9.13)\n",
      "Requirement already satisfied: tqdm>=4.27 in /var/lang/lib/python3.7/site-packages (from transformers[tf-cpu]) (4.64.1)\n",
      "Requirement already satisfied: importlib-metadata in /var/lang/lib/python3.7/site-packages (from transformers[tf-cpu]) (4.13.0)\n",
      "Requirement already satisfied: numpy>=1.17 in /var/lang/lib/python3.7/site-packages (from transformers[tf-cpu]) (1.21.6)\n",
      "Requirement already satisfied: huggingface-hub<1.0,>=0.10.0 in /var/lang/lib/python3.7/site-packages (from transformers[tf-cpu]) (0.10.1)\n",
      "Requirement already satisfied: filelock in /var/lang/lib/python3.7/site-packages (from transformers[tf-cpu]) (3.8.0)\n",
      "Requirement already satisfied: pyyaml>=5.1 in /var/lang/lib/python3.7/site-packages (from transformers[tf-cpu]) (6.0)\n",
      "Requirement already satisfied: requests in /var/lang/lib/python3.7/site-packages (from transformers[tf-cpu]) (2.28.1)\n",
      "Requirement already satisfied: tokenizers!=0.11.3,<0.14,>=0.11.1 in /var/lang/lib/python3.7/site-packages (from transformers[tf-cpu]) (0.13.1)\n",
      "Requirement already satisfied: packaging>=20.0 in /var/lang/lib/python3.7/site-packages (from transformers[tf-cpu]) (21.3)\n",
      "Collecting tf2onnx\n",
      "  Downloading tf2onnx-1.12.1-py3-none-any.whl (442 kB)\n",
      "\u001b[2K     \u001b[90m━━━━━━━━━━━━━━━━━━━━━━━━━━━━━━━━━━━━━━\u001b[0m \u001b[32m442.2/442.2 kB\u001b[0m \u001b[31m43.8 MB/s\u001b[0m eta \u001b[36m0:00:00\u001b[0m\n",
      "\u001b[?25hCollecting tensorflow-cpu>=2.3\n",
      "  Downloading tensorflow_cpu-2.10.0-cp37-cp37m-manylinux_2_17_x86_64.manylinux2014_x86_64.whl (214.4 MB)\n",
      "\u001b[2K     \u001b[90m━━━━━━━━━━━━━━━━━━━━━━━━━━━━━━━━━━━━━━━\u001b[0m \u001b[32m214.4/214.4 MB\u001b[0m \u001b[31m8.1 MB/s\u001b[0m eta \u001b[36m0:00:00\u001b[0m00:01\u001b[0m00:01\u001b[0m\n",
      "\u001b[?25hCollecting tensorflow-text\n",
      "  Downloading tensorflow_text-2.10.0-cp37-cp37m-manylinux_2_17_x86_64.manylinux2014_x86_64.whl (5.9 MB)\n",
      "\u001b[2K     \u001b[90m━━━━━━━━━━━━━━━━━━━━━━━━━━━━━━━━━━━━━━━━\u001b[0m \u001b[32m5.9/5.9 MB\u001b[0m \u001b[31m83.2 MB/s\u001b[0m eta \u001b[36m0:00:00\u001b[0mta \u001b[36m0:00:01\u001b[0m\n",
      "\u001b[?25hCollecting onnxconverter-common\n",
      "  Downloading onnxconverter_common-1.12.2-py2.py3-none-any.whl (83 kB)\n",
      "\u001b[2K     \u001b[90m━━━━━━━━━━━━━━━━━━━━━━━━━━━━━━━━━━━━━━━━\u001b[0m \u001b[32m83.6/83.6 kB\u001b[0m \u001b[31m21.4 MB/s\u001b[0m eta \u001b[36m0:00:00\u001b[0m\n",
      "\u001b[?25hRequirement already satisfied: typing-extensions>=3.7.4.3 in /var/lang/lib/python3.7/site-packages (from huggingface-hub<1.0,>=0.10.0->transformers[tf-cpu]) (4.4.0)\n",
      "Requirement already satisfied: pyparsing!=3.0.5,>=2.0.2 in /var/lang/lib/python3.7/site-packages (from packaging>=20.0->transformers[tf-cpu]) (3.0.9)\n",
      "Requirement already satisfied: absl-py>=1.0.0 in /var/lang/lib/python3.7/site-packages (from tensorflow-cpu>=2.3->transformers[tf-cpu]) (1.2.0)\n",
      "Requirement already satisfied: opt-einsum>=2.3.2 in /var/lang/lib/python3.7/site-packages (from tensorflow-cpu>=2.3->transformers[tf-cpu]) (3.3.0)\n",
      "Requirement already satisfied: flatbuffers>=2.0 in /var/lang/lib/python3.7/site-packages (from tensorflow-cpu>=2.3->transformers[tf-cpu]) (2.0.7)\n",
      "Collecting h5py>=2.9.0\n",
      "  Downloading h5py-3.7.0-cp37-cp37m-manylinux_2_12_x86_64.manylinux2010_x86_64.whl (4.1 MB)\n",
      "\u001b[2K     \u001b[90m━━━━━━━━━━━━━━━━━━━━━━━━━━━━━━━━━━━━━━━━\u001b[0m \u001b[32m4.1/4.1 MB\u001b[0m \u001b[31m36.7 MB/s\u001b[0m eta \u001b[36m0:00:00\u001b[0m:00:01\u001b[0m\n",
      "\u001b[?25hCollecting tensorflow-io-gcs-filesystem>=0.23.1\n",
      "  Downloading tensorflow_io_gcs_filesystem-0.27.0-cp37-cp37m-manylinux_2_12_x86_64.manylinux2010_x86_64.whl (2.4 MB)\n",
      "\u001b[2K     \u001b[90m━━━━━━━━━━━━━━━━━━━━━━━━━━━━━━━━━━━━━━━━\u001b[0m \u001b[32m2.4/2.4 MB\u001b[0m \u001b[31m88.9 MB/s\u001b[0m eta \u001b[36m0:00:00\u001b[0m\n",
      "\u001b[?25hCollecting protobuf<3.20,>=3.9.2\n",
      "  Downloading protobuf-3.19.6-cp37-cp37m-manylinux_2_17_x86_64.manylinux2014_x86_64.whl (1.1 MB)\n",
      "\u001b[2K     \u001b[90m━━━━━━━━━━━━━━━━━━━━━━━━━━━━━━━━━━━━━━━━\u001b[0m \u001b[32m1.1/1.1 MB\u001b[0m \u001b[31m79.2 MB/s\u001b[0m eta \u001b[36m0:00:00\u001b[0m\n",
      "\u001b[?25hCollecting tensorflow-estimator<2.11,>=2.10.0\n",
      "  Downloading tensorflow_estimator-2.10.0-py2.py3-none-any.whl (438 kB)\n",
      "\u001b[2K     \u001b[90m━━━━━━━━━━━━━━━━━━━━━━━━━━━━━━━━━━━━━━\u001b[0m \u001b[32m438.7/438.7 kB\u001b[0m \u001b[31m55.2 MB/s\u001b[0m eta \u001b[36m0:00:00\u001b[0m\n",
      "\u001b[?25hCollecting libclang>=13.0.0\n",
      "  Downloading libclang-14.0.6-py2.py3-none-manylinux2010_x86_64.whl (14.1 MB)\n",
      "\u001b[2K     \u001b[90m━━━━━━━━━━━━━━━━━━━━━━━━━━━━━━━━━━━━━━━━\u001b[0m \u001b[32m14.1/14.1 MB\u001b[0m \u001b[31m60.7 MB/s\u001b[0m eta \u001b[36m0:00:00\u001b[0m00:01\u001b[0m00:01\u001b[0m\n",
      "\u001b[?25hCollecting wrapt>=1.11.0\n",
      "  Downloading wrapt-1.14.1-cp37-cp37m-manylinux_2_5_x86_64.manylinux1_x86_64.manylinux_2_17_x86_64.manylinux2014_x86_64.whl (75 kB)\n",
      "\u001b[2K     \u001b[90m━━━━━━━━━━━━━━━━━━━━━━━━━━━━━━━━━━━━━━━━\u001b[0m \u001b[32m75.2/75.2 kB\u001b[0m \u001b[31m22.3 MB/s\u001b[0m eta \u001b[36m0:00:00\u001b[0m\n",
      "\u001b[?25hCollecting gast<=0.4.0,>=0.2.1\n",
      "  Downloading gast-0.4.0-py3-none-any.whl (9.8 kB)\n",
      "Requirement already satisfied: google-pasta>=0.1.1 in /var/lang/lib/python3.7/site-packages (from tensorflow-cpu>=2.3->transformers[tf-cpu]) (0.2.0)\n",
      "Collecting termcolor>=1.1.0\n",
      "  Downloading termcolor-2.0.1-py3-none-any.whl (5.4 kB)\n",
      "Requirement already satisfied: six>=1.12.0 in /var/lang/lib/python3.7/site-packages (from tensorflow-cpu>=2.3->transformers[tf-cpu]) (1.16.0)\n",
      "Collecting tensorboard<2.11,>=2.10\n",
      "  Downloading tensorboard-2.10.1-py3-none-any.whl (5.9 MB)\n",
      "\u001b[2K     \u001b[90m━━━━━━━━━━━━━━━━━━━━━━━━━━━━━━━━━━━━━━━━\u001b[0m \u001b[32m5.9/5.9 MB\u001b[0m \u001b[31m91.2 MB/s\u001b[0m eta \u001b[36m0:00:00\u001b[0mta \u001b[36m0:00:01\u001b[0m\n",
      "\u001b[?25hCollecting astunparse>=1.6.0\n",
      "  Downloading astunparse-1.6.3-py2.py3-none-any.whl (12 kB)\n",
      "Collecting keras-preprocessing>=1.1.1\n",
      "  Downloading Keras_Preprocessing-1.1.2-py2.py3-none-any.whl (42 kB)\n",
      "\u001b[2K     \u001b[90m━━━━━━━━━━━━━━━━━━━━━━━━━━━━━━━━━━━━━━━━\u001b[0m \u001b[32m42.6/42.6 kB\u001b[0m \u001b[31m11.7 MB/s\u001b[0m eta \u001b[36m0:00:00\u001b[0m\n",
      "\u001b[?25hRequirement already satisfied: setuptools in /var/lang/lib/python3.7/site-packages (from tensorflow-cpu>=2.3->transformers[tf-cpu]) (47.1.0)\n",
      "Collecting grpcio<2.0,>=1.24.3\n",
      "  Downloading grpcio-1.49.1-cp37-cp37m-manylinux_2_17_x86_64.manylinux2014_x86_64.whl (4.7 MB)\n",
      "\u001b[2K     \u001b[90m━━━━━━━━━━━━━━━━━━━━━━━━━━━━━━━━━━━━━━━━\u001b[0m \u001b[32m4.7/4.7 MB\u001b[0m \u001b[31m81.3 MB/s\u001b[0m eta \u001b[36m0:00:00\u001b[0mta \u001b[36m0:00:01\u001b[0m\n",
      "\u001b[?25hCollecting keras<2.11,>=2.10.0\n",
      "  Downloading keras-2.10.0-py2.py3-none-any.whl (1.7 MB)\n",
      "\u001b[2K     \u001b[90m━━━━━━━━━━━━━━━━━━━━━━━━━━━━━━━━━━━━━━━━\u001b[0m \u001b[32m1.7/1.7 MB\u001b[0m \u001b[31m34.1 MB/s\u001b[0m eta \u001b[36m0:00:00\u001b[0m:00:01\u001b[0m\n",
      "\u001b[?25hRequirement already satisfied: zipp>=0.5 in /var/lang/lib/python3.7/site-packages (from importlib-metadata->transformers[tf-cpu]) (3.9.0)\n",
      "Collecting onnx\n",
      "  Downloading onnx-1.12.0-cp37-cp37m-manylinux_2_17_x86_64.manylinux2014_x86_64.whl (13.1 MB)\n",
      "\u001b[2K     \u001b[90m━━━━━━━━━━━━━━━━━━━━━━━━━━━━━━━━━━━━━━━━\u001b[0m \u001b[32m13.1/13.1 MB\u001b[0m \u001b[31m63.0 MB/s\u001b[0m eta \u001b[36m0:00:00\u001b[0m00:01\u001b[0m00:01\u001b[0m\n",
      "\u001b[?25hRequirement already satisfied: charset-normalizer<3,>=2 in /var/lang/lib/python3.7/site-packages (from requests->transformers[tf-cpu]) (2.1.1)\n",
      "Requirement already satisfied: certifi>=2017.4.17 in /var/lang/lib/python3.7/site-packages (from requests->transformers[tf-cpu]) (2022.9.24)\n",
      "Requirement already satisfied: idna<4,>=2.5 in /var/lang/lib/python3.7/site-packages (from requests->transformers[tf-cpu]) (3.4)\n",
      "Requirement already satisfied: urllib3<1.27,>=1.21.1 in /var/lang/lib/python3.7/site-packages (from requests->transformers[tf-cpu]) (1.26.12)\n",
      "Collecting tensorflow-hub>=0.8.0\n",
      "  Downloading tensorflow_hub-0.12.0-py2.py3-none-any.whl (108 kB)\n",
      "\u001b[2K     \u001b[90m━━━━━━━━━━━━━━━━━━━━━━━━━━━━━━━━━━━━━━\u001b[0m \u001b[32m108.8/108.8 kB\u001b[0m \u001b[31m27.3 MB/s\u001b[0m eta \u001b[36m0:00:00\u001b[0m\n",
      "\u001b[?25hCollecting tensorflow<2.11,>=2.10.0\n",
      "  Downloading tensorflow-2.10.0-cp37-cp37m-manylinux_2_17_x86_64.manylinux2014_x86_64.whl (578.0 MB)\n",
      "\u001b[2K     \u001b[90m━━━━━━━━━━━━━━━━━━━━━━━━━━━━━━━━━━━━━━━\u001b[0m \u001b[32m578.0/578.0 MB\u001b[0m \u001b[31m1.7 MB/s\u001b[0m eta \u001b[36m0:00:00\u001b[0m00:01\u001b[0m00:01\u001b[0m\n",
      "\u001b[?25hCollecting tf2onnx\n",
      "  Downloading tf2onnx-1.12.0-py3-none-any.whl (442 kB)\n",
      "\u001b[2K     \u001b[90m━━━━━━━━━━━━━━━━━━━━━━━━━━━━━━━━━━━━━━\u001b[0m \u001b[32m442.0/442.0 kB\u001b[0m \u001b[31m44.9 MB/s\u001b[0m eta \u001b[36m0:00:00\u001b[0m\n",
      "\u001b[?25h  Downloading tf2onnx-1.11.1-py3-none-any.whl (440 kB)\n",
      "\u001b[2K     \u001b[90m━━━━━━━━━━━━━━━━━━━━━━━━━━━━━━━━━━━━━━\u001b[0m \u001b[32m440.6/440.6 kB\u001b[0m \u001b[31m58.6 MB/s\u001b[0m eta \u001b[36m0:00:00\u001b[0m\n",
      "\u001b[?25h  Downloading tf2onnx-1.10.1-py3-none-any.whl (440 kB)\n",
      "\u001b[2K     \u001b[90m━━━━━━━━━━━━━━━━━━━━━━━━━━━━━━━━━━━━━━\u001b[0m \u001b[32m440.2/440.2 kB\u001b[0m \u001b[31m45.3 MB/s\u001b[0m eta \u001b[36m0:00:00\u001b[0m\n",
      "\u001b[?25h  Downloading tf2onnx-1.9.3-py3-none-any.whl (435 kB)\n",
      "\u001b[2K     \u001b[90m━━━━━━━━━━━━━━━━━━━━━━━━━━━━━━━━━━━━━━\u001b[0m \u001b[32m435.4/435.4 kB\u001b[0m \u001b[31m57.2 MB/s\u001b[0m eta \u001b[36m0:00:00\u001b[0m\n",
      "\u001b[?25h  Downloading tf2onnx-1.9.2-py3-none-any.whl (430 kB)\n",
      "\u001b[2K     \u001b[90m━━━━━━━━━━━━━━━━━━━━━━━━━━━━━━━━━━━━━━\u001b[0m \u001b[32m430.2/430.2 kB\u001b[0m \u001b[31m43.0 MB/s\u001b[0m eta \u001b[36m0:00:00\u001b[0m\n",
      "\u001b[?25h  Downloading tf2onnx-1.9.1-py3-none-any.whl (398 kB)\n",
      "\u001b[2K     \u001b[90m━━━━━━━━━━━━━━━━━━━━━━━━━━━━━━━━━━━━━━\u001b[0m \u001b[32m399.0/399.0 kB\u001b[0m \u001b[31m56.3 MB/s\u001b[0m eta \u001b[36m0:00:00\u001b[0m\n",
      "\u001b[?25h  Downloading tf2onnx-1.8.5-py3-none-any.whl (370 kB)\n",
      "\u001b[2K     \u001b[90m━━━━━━━━━━━━━━━━━━━━━━━━━━━━━━━━━━━━━━\u001b[0m \u001b[32m370.2/370.2 kB\u001b[0m \u001b[31m46.3 MB/s\u001b[0m eta \u001b[36m0:00:00\u001b[0m\n",
      "\u001b[?25h  Downloading tf2onnx-1.8.4-py3-none-any.whl (345 kB)\n",
      "\u001b[2K     \u001b[90m━━━━━━━━━━━━━━━━━━━━━━━━━━━━━━━━━━━━━━\u001b[0m \u001b[32m345.3/345.3 kB\u001b[0m \u001b[31m55.4 MB/s\u001b[0m eta \u001b[36m0:00:00\u001b[0m\n",
      "\u001b[?25hCollecting wheel<1.0,>=0.23.0\n",
      "  Downloading wheel-0.37.1-py2.py3-none-any.whl (35 kB)\n",
      "Collecting werkzeug>=1.0.1\n",
      "  Downloading Werkzeug-2.2.2-py3-none-any.whl (232 kB)\n",
      "\u001b[2K     \u001b[90m━━━━━━━━━━━━━━━━━━━━━━━━━━━━━━━━━━━━━━━\u001b[0m \u001b[32m232.7/232.7 kB\u001b[0m \u001b[31m6.1 MB/s\u001b[0m eta \u001b[36m0:00:00\u001b[0ma \u001b[36m0:00:01\u001b[0m\n",
      "\u001b[?25hCollecting google-auth-oauthlib<0.5,>=0.4.1\n",
      "  Downloading google_auth_oauthlib-0.4.6-py2.py3-none-any.whl (18 kB)\n",
      "Collecting tensorboard-plugin-wit>=1.6.0\n",
      "  Downloading tensorboard_plugin_wit-1.8.1-py3-none-any.whl (781 kB)\n",
      "\u001b[2K     \u001b[90m━━━━━━━━━━━━━━━━━━━━━━━━━━━━━━━━━━━━━━\u001b[0m \u001b[32m781.3/781.3 kB\u001b[0m \u001b[31m62.9 MB/s\u001b[0m eta \u001b[36m0:00:00\u001b[0m\n",
      "\u001b[?25hCollecting tensorboard-data-server<0.7.0,>=0.6.0\n",
      "  Downloading tensorboard_data_server-0.6.1-py3-none-manylinux2010_x86_64.whl (4.9 MB)\n",
      "\u001b[2K     \u001b[90m━━━━━━━━━━━━━━━━━━━━━━━━━━━━━━━━━━━━━━━━\u001b[0m \u001b[32m4.9/4.9 MB\u001b[0m \u001b[31m82.3 MB/s\u001b[0m eta \u001b[36m0:00:00\u001b[0mta \u001b[36m0:00:01\u001b[0m\n",
      "\u001b[?25hCollecting markdown>=2.6.8\n",
      "  Downloading Markdown-3.4.1-py3-none-any.whl (93 kB)\n",
      "\u001b[2K     \u001b[90m━━━━━━━━━━━━━━━━━━━━━━━━━━━━━━━━━━━━━━━━\u001b[0m \u001b[32m93.3/93.3 kB\u001b[0m \u001b[31m23.3 MB/s\u001b[0m eta \u001b[36m0:00:00\u001b[0m\n",
      "\u001b[?25hCollecting google-auth<3,>=1.6.3\n",
      "  Downloading google_auth-2.12.0-py2.py3-none-any.whl (169 kB)\n",
      "\u001b[2K     \u001b[90m━━━━━━━━━━━━━━━━━━━━━━━━━━━━━━━━━━━━━━\u001b[0m \u001b[32m169.8/169.8 kB\u001b[0m \u001b[31m36.2 MB/s\u001b[0m eta \u001b[36m0:00:00\u001b[0m\n",
      "\u001b[?25hCollecting cachetools<6.0,>=2.0.0\n",
      "  Downloading cachetools-5.2.0-py3-none-any.whl (9.3 kB)\n",
      "Collecting pyasn1-modules>=0.2.1\n",
      "  Downloading pyasn1_modules-0.2.8-py2.py3-none-any.whl (155 kB)\n",
      "\u001b[2K     \u001b[90m━━━━━━━━━━━━━━━━━━━━━━━━━━━━━━━━━━━━━━\u001b[0m \u001b[32m155.3/155.3 kB\u001b[0m \u001b[31m31.9 MB/s\u001b[0m eta \u001b[36m0:00:00\u001b[0m\n",
      "\u001b[?25hCollecting rsa<5,>=3.1.4\n",
      "  Downloading rsa-4.9-py3-none-any.whl (34 kB)\n",
      "Collecting requests-oauthlib>=0.7.0\n",
      "  Downloading requests_oauthlib-1.3.1-py2.py3-none-any.whl (23 kB)\n",
      "Requirement already satisfied: MarkupSafe>=2.1.1 in /var/lang/lib/python3.7/site-packages (from werkzeug>=1.0.1->tensorboard<2.11,>=2.10->tensorflow-cpu>=2.3->transformers[tf-cpu]) (2.1.1)\n",
      "Collecting pyasn1<0.5.0,>=0.4.6\n",
      "  Downloading pyasn1-0.4.8-py2.py3-none-any.whl (77 kB)\n",
      "\u001b[2K     \u001b[90m━━━━━━━━━━━━━━━━━━━━━━━━━━━━━━━━━━━━━━━━\u001b[0m \u001b[32m77.1/77.1 kB\u001b[0m \u001b[31m16.5 MB/s\u001b[0m eta \u001b[36m0:00:00\u001b[0m\n",
      "\u001b[?25hCollecting oauthlib>=3.0.0\n",
      "  Downloading oauthlib-3.2.1-py3-none-any.whl (151 kB)\n",
      "\u001b[2K     \u001b[90m━━━━━━━━━━━━━━━━━━━━━━━━━━━━━━━━━━━━━━\u001b[0m \u001b[32m151.7/151.7 kB\u001b[0m \u001b[31m35.3 MB/s\u001b[0m eta \u001b[36m0:00:00\u001b[0m\n",
      "\u001b[?25hInstalling collected packages: tensorboard-plugin-wit, pyasn1, libclang, keras, wrapt, wheel, werkzeug, termcolor, tensorflow-io-gcs-filesystem, tensorflow-estimator, tensorboard-data-server, rsa, pyasn1-modules, protobuf, oauthlib, keras-preprocessing, h5py, grpcio, gast, cachetools, tensorflow-hub, requests-oauthlib, onnx, markdown, google-auth, astunparse, tf2onnx, onnxconverter-common, google-auth-oauthlib, tensorboard, tensorflow-cpu, tensorflow, tensorflow-text\n",
      "  Attempting uninstall: protobuf\n",
      "    Found existing installation: protobuf 3.20.3\n",
      "    Uninstalling protobuf-3.20.3:\n",
      "      Successfully uninstalled protobuf-3.20.3\n",
      "Successfully installed astunparse-1.6.3 cachetools-5.2.0 gast-0.4.0 google-auth-2.12.0 google-auth-oauthlib-0.4.6 grpcio-1.49.1 h5py-3.7.0 keras-2.10.0 keras-preprocessing-1.1.2 libclang-14.0.6 markdown-3.4.1 oauthlib-3.2.1 onnx-1.12.0 onnxconverter-common-1.12.2 protobuf-3.19.6 pyasn1-0.4.8 pyasn1-modules-0.2.8 requests-oauthlib-1.3.1 rsa-4.9 tensorboard-2.10.1 tensorboard-data-server-0.6.1 tensorboard-plugin-wit-1.8.1 tensorflow-2.10.0 tensorflow-cpu-2.10.0 tensorflow-estimator-2.10.0 tensorflow-hub-0.12.0 tensorflow-io-gcs-filesystem-0.27.0 tensorflow-text-2.10.0 termcolor-2.0.1 tf2onnx-1.8.4 werkzeug-2.2.2 wheel-0.37.1 wrapt-1.14.1\n",
      "\u001b[33mWARNING: Running pip as the 'root' user can result in broken permissions and conflicting behaviour with the system package manager. It is recommended to use a virtual environment instead: https://pip.pypa.io/warnings/venv\u001b[0m\u001b[33m\n",
      "\u001b[0m\n",
      "\u001b[1m[\u001b[0m\u001b[34;49mnotice\u001b[0m\u001b[1;39;49m]\u001b[0m\u001b[39;49m A new release of pip available: \u001b[0m\u001b[31;49m22.1.2\u001b[0m\u001b[39;49m -> \u001b[0m\u001b[32;49m22.2.2\u001b[0m\n",
      "\u001b[1m[\u001b[0m\u001b[34;49mnotice\u001b[0m\u001b[1;39;49m]\u001b[0m\u001b[39;49m To update, run: \u001b[0m\u001b[32;49mpip install --upgrade pip\u001b[0m\n"
     ]
    }
   ],
   "source": [
    "!pip install transformers[tf-cpu]"
   ]
  },
  {
   "cell_type": "code",
   "execution_count": 9,
   "id": "a6d1b27f-64a6-4120-bc60-a6787f6e2ad7",
   "metadata": {
    "collapsed": true,
    "jupyter": {
     "outputs_hidden": true
    },
    "tags": []
   },
   "outputs": [
    {
     "name": "stderr",
     "output_type": "stream",
     "text": [
      "2022-10-12 20:12:55.686647: I tensorflow/core/platform/cpu_feature_guard.cc:193] This TensorFlow binary is optimized with oneAPI Deep Neural Network Library (oneDNN) to use the following CPU instructions in performance-critical operations:  AVX2 AVX512F FMA\n",
      "To enable them in other operations, rebuild TensorFlow with the appropriate compiler flags.\n",
      "2022-10-12 20:12:55.870186: W tensorflow/stream_executor/platform/default/dso_loader.cc:64] Could not load dynamic library 'libcudart.so.11.0'; dlerror: libcudart.so.11.0: cannot open shared object file: No such file or directory; LD_LIBRARY_PATH: /var/lang/lib:/lib64:/usr/lib64:/var/runtime:/var/runtime/lib:/var/task:/var/task/lib:/opt/lib\n",
      "2022-10-12 20:12:55.870214: I tensorflow/stream_executor/cuda/cudart_stub.cc:29] Ignore above cudart dlerror if you do not have a GPU set up on your machine.\n",
      "2022-10-12 20:12:55.915885: E tensorflow/stream_executor/cuda/cuda_blas.cc:2981] Unable to register cuBLAS factory: Attempting to register factory for plugin cuBLAS when one has already been registered\n",
      "2022-10-12 20:12:56.770299: W tensorflow/stream_executor/platform/default/dso_loader.cc:64] Could not load dynamic library 'libnvinfer.so.7'; dlerror: libnvinfer.so.7: cannot open shared object file: No such file or directory; LD_LIBRARY_PATH: /var/lang/lib:/lib64:/usr/lib64:/var/runtime:/var/runtime/lib:/var/task:/var/task/lib:/opt/lib\n",
      "2022-10-12 20:12:56.770404: W tensorflow/stream_executor/platform/default/dso_loader.cc:64] Could not load dynamic library 'libnvinfer_plugin.so.7'; dlerror: libnvinfer_plugin.so.7: cannot open shared object file: No such file or directory; LD_LIBRARY_PATH: /var/lang/lib:/lib64:/usr/lib64:/var/runtime:/var/runtime/lib:/var/task:/var/task/lib:/opt/lib\n",
      "2022-10-12 20:12:56.770411: W tensorflow/compiler/tf2tensorrt/utils/py_utils.cc:38] TF-TRT Warning: Cannot dlopen some TensorRT libraries. If you would like to use Nvidia GPU with TensorRT, please make sure the missing libraries mentioned above are installed properly.\n"
     ]
    },
    {
     "data": {
      "application/vnd.jupyter.widget-view+json": {
       "model_id": "548d29f200bc4974a4c91fdd7e3cbbcc",
       "version_major": 2,
       "version_minor": 0
      },
      "text/plain": [
       "Downloading:   0%|          | 0.00/59.0 [00:00<?, ?B/s]"
      ]
     },
     "metadata": {},
     "output_type": "display_data"
    },
    {
     "data": {
      "application/vnd.jupyter.widget-view+json": {
       "model_id": "9ee34da1f0ee4b0898e336ed4217419e",
       "version_major": 2,
       "version_minor": 0
      },
      "text/plain": [
       "Downloading:   0%|          | 0.00/829 [00:00<?, ?B/s]"
      ]
     },
     "metadata": {},
     "output_type": "display_data"
    },
    {
     "data": {
      "application/vnd.jupyter.widget-view+json": {
       "model_id": "5eea049fe372466f99eeea54a1baa9de",
       "version_major": 2,
       "version_minor": 0
      },
      "text/plain": [
       "Downloading:   0%|          | 0.00/213k [00:00<?, ?B/s]"
      ]
     },
     "metadata": {},
     "output_type": "display_data"
    },
    {
     "data": {
      "application/vnd.jupyter.widget-view+json": {
       "model_id": "6585a7fd312d480081a85729167a3897",
       "version_major": 2,
       "version_minor": 0
      },
      "text/plain": [
       "Downloading:   0%|          | 0.00/2.00 [00:00<?, ?B/s]"
      ]
     },
     "metadata": {},
     "output_type": "display_data"
    },
    {
     "data": {
      "application/vnd.jupyter.widget-view+json": {
       "model_id": "d5eb0a59c24a49e4b633eb15e5e61574",
       "version_major": 2,
       "version_minor": 0
      },
      "text/plain": [
       "Downloading:   0%|          | 0.00/112 [00:00<?, ?B/s]"
      ]
     },
     "metadata": {},
     "output_type": "display_data"
    },
    {
     "data": {
      "application/vnd.jupyter.widget-view+json": {
       "model_id": "2b369c77f2854d4f8da0a734365cbac3",
       "version_major": 2,
       "version_minor": 0
      },
      "text/plain": [
       "Downloading:   0%|          | 0.00/433M [00:00<?, ?B/s]"
      ]
     },
     "metadata": {},
     "output_type": "display_data"
    },
    {
     "name": "stdout",
     "output_type": "stream",
     "text": [
      "[{'entity': 'B-PER', 'score': 0.9990139, 'index': 4, 'word': 'Wolfgang', 'start': 11, 'end': 19}, {'entity': 'B-LOC', 'score': 0.999645, 'index': 9, 'word': 'Berlin', 'start': 34, 'end': 40}]\n"
     ]
    }
   ],
   "source": [
    "from transformers import AutoTokenizer, AutoModelForTokenClassification\n",
    "from transformers import pipeline\n",
    "\n",
    "tokenizer = AutoTokenizer.from_pretrained(\"dslim/bert-base-NER\")\n",
    "model = AutoModelForTokenClassification.from_pretrained(\"dslim/bert-base-NER\")\n",
    "\n",
    "nlp = pipeline(\"ner\", model=model, tokenizer=tokenizer)\n",
    "example = \"My name is Wolfgang and I live in Berlin\"\n",
    "\n",
    "ner_results = nlp(example)\n",
    "print(ner_results)"
   ]
  },
  {
   "cell_type": "code",
   "execution_count": 10,
   "id": "98e1c865-5b1c-44df-a305-642ce96f58a4",
   "metadata": {},
   "outputs": [],
   "source": [
    "post_id='N47'"
   ]
  },
  {
   "cell_type": "code",
   "execution_count": 11,
   "id": "5b57298a-9231-490f-8dfe-b07be433af89",
   "metadata": {},
   "outputs": [],
   "source": [
    "prod_post_table = boto3_session.resource('dynamodb').Table('prod-post')"
   ]
  },
  {
   "cell_type": "code",
   "execution_count": 12,
   "id": "98ce0b3c-0b90-41a9-9d23-852a74f4b498",
   "metadata": {
    "tags": []
   },
   "outputs": [],
   "source": [
    "get_item = prod_post_table.get_item(Key={'id': post_id})['Item']"
   ]
  },
  {
   "cell_type": "code",
   "execution_count": 13,
   "id": "1a875fe0-f2c5-4e4b-ab56-6c0493b87dd6",
   "metadata": {
    "tags": []
   },
   "outputs": [],
   "source": [
    "named_entities = nlp(get_item['postTranscript'])"
   ]
  },
  {
   "cell_type": "code",
   "execution_count": 14,
   "id": "17b2b717-ed6f-4111-b42c-dac63d9d93d5",
   "metadata": {},
   "outputs": [],
   "source": [
    "for i in range(len(named_entities)):\n",
    "    named_entities[i]['score'] = named_entities[i]['score'].item()"
   ]
  },
  {
   "cell_type": "code",
   "execution_count": 17,
   "id": "6f4fc103-509a-422b-ba52-14dec7d5efe8",
   "metadata": {
    "tags": []
   },
   "outputs": [
    {
     "data": {
      "text/plain": [
       "{'Attributes': {'postedTimestamp': '2022-10-12T20:13:57.240264',\n",
       "  'namedEntities': [{'start': Decimal('14'),\n",
       "    'score': Decimal('0.9952762126922607'),\n",
       "    'index': Decimal('7'),\n",
       "    'end': Decimal('20'),\n",
       "    'word': 'Nicola',\n",
       "    'entity': 'B-PER'},\n",
       "   {'start': Decimal('30'),\n",
       "    'score': Decimal('0.9440105557441711'),\n",
       "    'index': Decimal('11'),\n",
       "    'end': Decimal('35'),\n",
       "    'word': 'Rhode',\n",
       "    'entity': 'B-LOC'},\n",
       "   {'start': Decimal('199'),\n",
       "    'score': Decimal('0.9461148381233215'),\n",
       "    'index': Decimal('45'),\n",
       "    'end': Decimal('203'),\n",
       "    'word': 'Dave',\n",
       "    'entity': 'B-ORG'},\n",
       "   {'start': Decimal('203'),\n",
       "    'score': Decimal('0.9875108003616333'),\n",
       "    'index': Decimal('46'),\n",
       "    'end': Decimal('204'),\n",
       "    'word': \"'\",\n",
       "    'entity': 'I-ORG'},\n",
       "   {'start': Decimal('204'),\n",
       "    'score': Decimal('0.9864482283592224'),\n",
       "    'index': Decimal('47'),\n",
       "    'end': Decimal('205'),\n",
       "    'word': 's',\n",
       "    'entity': 'I-ORG'},\n",
       "   {'start': Decimal('206'),\n",
       "    'score': Decimal('0.9766187071800232'),\n",
       "    'index': Decimal('48'),\n",
       "    'end': Decimal('212'),\n",
       "    'word': 'Coffee',\n",
       "    'entity': 'I-ORG'},\n",
       "   {'start': Decimal('218'),\n",
       "    'score': Decimal('0.9750598669052124'),\n",
       "    'index': Decimal('51'),\n",
       "    'end': Decimal('223'),\n",
       "    'word': 'Rhode',\n",
       "    'entity': 'B-MISC'},\n",
       "   {'start': Decimal('280'),\n",
       "    'score': Decimal('0.9736853837966919'),\n",
       "    'index': Decimal('65'),\n",
       "    'end': Decimal('285'),\n",
       "    'word': 'Plant',\n",
       "    'entity': 'B-LOC'},\n",
       "   {'start': Decimal('286'),\n",
       "    'score': Decimal('0.9936554431915283'),\n",
       "    'index': Decimal('66'),\n",
       "    'end': Decimal('290'),\n",
       "    'word': 'City',\n",
       "    'entity': 'I-LOC'},\n",
       "   {'start': Decimal('412'),\n",
       "    'score': Decimal('0.9799701571464539'),\n",
       "    'index': Decimal('91'),\n",
       "    'end': Decimal('417'),\n",
       "    'word': 'Plant',\n",
       "    'entity': 'B-LOC'},\n",
       "   {'start': Decimal('418'),\n",
       "    'score': Decimal('0.9940372705459595'),\n",
       "    'index': Decimal('92'),\n",
       "    'end': Decimal('422'),\n",
       "    'word': 'City',\n",
       "    'entity': 'I-LOC'},\n",
       "   {'start': Decimal('482'),\n",
       "    'score': Decimal('0.7603867650032043'),\n",
       "    'index': Decimal('108'),\n",
       "    'end': Decimal('486'),\n",
       "    'word': 'Jeff',\n",
       "    'entity': 'B-ORG'},\n",
       "   {'start': Decimal('623'),\n",
       "    'score': Decimal('0.4450989067554474'),\n",
       "    'index': Decimal('142'),\n",
       "    'end': Decimal('624'),\n",
       "    'word': 'K',\n",
       "    'entity': 'I-MISC'},\n",
       "   {'start': Decimal('643'),\n",
       "    'score': Decimal('0.8263395428657532'),\n",
       "    'index': Decimal('147'),\n",
       "    'end': Decimal('645'),\n",
       "    'word': 'He',\n",
       "    'entity': 'B-ORG'},\n",
       "   {'start': Decimal('645'),\n",
       "    'score': Decimal('0.7057759165763855'),\n",
       "    'index': Decimal('148'),\n",
       "    'end': Decimal('649'),\n",
       "    'word': '##ming',\n",
       "    'entity': 'I-ORG'},\n",
       "   {'start': Decimal('649'),\n",
       "    'score': Decimal('0.8758209943771362'),\n",
       "    'index': Decimal('149'),\n",
       "    'end': Decimal('652'),\n",
       "    'word': '##way',\n",
       "    'entity': 'I-ORG'},\n",
       "   {'start': Decimal('652'),\n",
       "    'score': Decimal('0.5370371341705322'),\n",
       "    'index': Decimal('150'),\n",
       "    'end': Decimal('653'),\n",
       "    'word': \"'\",\n",
       "    'entity': 'I-ORG'}]},\n",
       " 'ResponseMetadata': {'RequestId': 'L62V1N919RLFAHREOOHN54N78RVV4KQNSO5AEMVJF66Q9ASUAAJG',\n",
       "  'HTTPStatusCode': 200,\n",
       "  'HTTPHeaders': {'server': 'Server',\n",
       "   'date': 'Wed, 12 Oct 2022 20:13:57 GMT',\n",
       "   'content-type': 'application/x-amz-json-1.0',\n",
       "   'content-length': '2524',\n",
       "   'connection': 'keep-alive',\n",
       "   'x-amzn-requestid': 'L62V1N919RLFAHREOOHN54N78RVV4KQNSO5AEMVJF66Q9ASUAAJG',\n",
       "   'x-amz-crc32': '670244723'},\n",
       "  'RetryAttempts': 0}}"
      ]
     },
     "execution_count": 17,
     "metadata": {},
     "output_type": "execute_result"
    }
   ],
   "source": [
    "prod_post_table.update_item(\n",
    "    Key={'id': post_id},\n",
    "    UpdateExpression=\"set namedEntities = :p, postedTimestamp = :s\",\n",
    "    ExpressionAttributeValues={':p': json.loads(json.dumps(named_entities), parse_float=Decimal),\n",
    "                               ':s': str(dt.datetime.now().isoformat())},\n",
    "    ReturnValues=\"UPDATED_NEW\")"
   ]
  },
  {
   "cell_type": "code",
   "execution_count": null,
   "id": "66347412-15ee-4993-a496-c2df4700d4bf",
   "metadata": {},
   "outputs": [],
   "source": []
  }
 ],
 "metadata": {
  "instance_type": "ml.t3.medium",
  "kernelspec": {
   "display_name": "Python3 (now-app-recommendation-ds/1)",
   "language": "python",
   "name": "Python3__SAGEMAKER_INTERNAL__arn:aws:sagemaker:us-east-1:183286346090:image-version/now-app-recommendation-ds/1"
  },
  "language_info": {
   "codemirror_mode": {
    "name": "ipython",
    "version": 3
   },
   "file_extension": ".py",
   "mimetype": "text/x-python",
   "name": "python",
   "nbconvert_exporter": "python",
   "pygments_lexer": "ipython3",
   "version": "3.7.12"
  }
 },
 "nbformat": 4,
 "nbformat_minor": 5
}
