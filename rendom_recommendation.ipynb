{
 "cells": [
  {
   "cell_type": "code",
   "execution_count": 2,
   "metadata": {},
   "outputs": [
    {
     "name": "stdout",
     "output_type": "stream",
     "text": [
      "{'statusCode': 200, 'body': '{\"message\": \"Prediction executed successfully!\", \"user_id\": \"1234\", \"post_id\": \"d49411e4-b02f-491f-a974-9ebd6d9faae1\"}', 'headers': {'Access-Control-Allow-Origin': '*'}}\n"
     ]
    }
   ],
   "source": [
    "import random\n",
    "import json\n",
    "\n",
    "def lambda_handler(event, context):    \n",
    "    user_id = event['queryStringParameters']['user_id']\n",
    "    \n",
    "    post_id=[\n",
    "     'b0c9a153-9030-4a9d-80cc-f9677174ccff'\n",
    "    ,'1dc3ba7f-6b9b-4ef2-92af-44a9afa7b4a0'\n",
    "    ,'915da040-7918-4f02-870e-d968ca7acf4d'\n",
    "    ,'d49411e4-b02f-491f-a974-9ebd6d9faae1'\n",
    "    ,'c96e1d56-b160-4551-8414-77d10fcd077e'\n",
    "    ,'9672e35d-03b9-4fdf-9813-f235e28e593b'\n",
    "    ,'fbc48d2b-2218-4748-b183-160726d9983f'\n",
    "    ,'d37176c6-a94c-496b-9c42-db3c466722f6'\n",
    "    ,'9d1ce001-9429-4501-8584-581b3210211e'\n",
    "    ,'a7815b8d-29a5-479c-bb0e-7179e419dc92'\n",
    "    ]\n",
    "    \n",
    "    body = {\n",
    "        \"message\": \"Prediction executed successfully!\"        \n",
    "    }\n",
    "\n",
    "    body['user_id'] = user_id\n",
    "    body['post_id'] = random.choice(post_id)    \n",
    "    \n",
    "    response = {\n",
    "        \"statusCode\": 200,\n",
    "        \"body\": json.dumps(body),\n",
    "        \"headers\": {\n",
    "            \"Access-Control-Allow-Origin\": \"*\"\n",
    "        }\n",
    "    }\n",
    "    \n",
    "    return response\n",
    "\n",
    "# DEV\n",
    "event={\n",
    "    \"queryStringParameters\":{\"user_id\":\"1234\"}\n",
    "}\n",
    "context='context'\n",
    "print(lambda_handler(event, context))"
   ]
  },
  {
   "cell_type": "code",
   "execution_count": null,
   "metadata": {},
   "outputs": [],
   "source": []
  }
 ],
 "metadata": {
  "kernelspec": {
   "display_name": "Python 3",
   "language": "python",
   "name": "python3"
  },
  "language_info": {
   "codemirror_mode": {
    "name": "ipython",
    "version": 3
   },
   "file_extension": ".py",
   "mimetype": "text/x-python",
   "name": "python",
   "nbconvert_exporter": "python",
   "pygments_lexer": "ipython3",
   "version": "3.7.7"
  }
 },
 "nbformat": 4,
 "nbformat_minor": 4
}
